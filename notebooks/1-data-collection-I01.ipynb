{
 "cells": [
  {
   "cell_type": "markdown",
   "metadata": {
    "id": "itC6u5MwXTIu"
   },
   "source": [
    "# Steam Data Analysis"
   ]
  },
  {
   "cell_type": "markdown",
   "metadata": {
    "id": "3tB7Ot-2XTI2"
   },
   "source": [
    "## Project Goals\n",
    "\n",
    "<!-- PELICAN_BEGIN_SUMMARY -->\n",
    "\n",
    "The motivation is gather, process and analyze Steam Store data to get insights about trends in the videogame market. As it is an online marketplace with public available data, it offers us more possibilities than analyzing console games data, where we would have to rely on an existing dataset.\n",
    "\n",
    "We want to focus on two main aspects, first a general market analysis to know which genres are the most popular, pricing strategies and so on, which could be interesting for a new developer trying to make a new game or deciding a price policy. This has been studied already by other enthusiasts in internet, and also by Marketing companies helping publishers.\n",
    "\n",
    "But to offer a different analysis, we want to also focus on the developers and publishers, to see which ones are the most successfull, how they have improved / worsen between the years, which titles have cemented their success and so on. In the light of recent years we have seen many acquisitions by large publishers such as Tencent, Microsoft and Sony, so this is very interesting concept.\n",
    "\n",
    "This will be a complete data project, with a data acquisition section (by using some APIs and web scrapping), then data cleaning and joining data from different sources, an exploratory data analysis, and finally some key conclusions.\n",
    "\n",
    "\n",
    "## Data Acquisition\n",
    "\n",
    "This is the section where I struggled initially. There were several datasets available at [kaggle](https://www.kaggle.com/datasets), reddit and similar websites, but most were outdated or did not contain all the information I wanted to explore. Also I wanted to extract it directly from an API or use web scrapping, if possible, to learn a bit more (I already had experience with Twitter which has an excellent API).\n",
    "\n",
    "[SteamSpy](https://steamspy.com/about) is a webpage which offers data about Steam games. In the past it was even able to deliver a good guess of sales, but that has become harder throughout the years. Check [VG Insights](https://vginsights.com/insights/article/how-to-estimate-steam-video-game-sales) for more information. It is also a good webpage if you want to explore market data on your own.\n",
    "The most important thing for Steamspy is that it has its own API [here](https://steamspy.com/api.php). It can provide us easily with an already filtered list of games (not other apps or DLCs), and also some metrics not available at Steam directly such as an estimate of sales and the positive or negative reviews (Steam only gives us total number reviews).\n",
    "\n",
    "Regarding Steam directly, the API is available at https://partner.steamgames.com/ , however you need a developer key and some (most of the functions) are tied to your key as they are intended to be used to manage your own products at the Steam store. Thanks to [Nik Davis](http://nik-davis.github.io) I discovered there were also a few API functions via the WEB API which can be used without a key at all. See here for more details: [StorefrontAPI](https://wiki.teamfortress.com/wiki/User:RJackson/StorefrontAPI).\n",
    "\n",
    "Getting the information from Steam will be a bit more difficult, but it will give us additional metrics, such as release date, genre...\n",
    "\n",
    "We will retrieve first the list of appids and the information available at Steam Spy, then get for each appid the information from Steam and combine them in an unique dataframe. There will be no loss of information as app ids are unique. Afterwards, we will perform cleaning and finally start analyzing our dataset.\n",
    "\n",
    "## Process:\n",
    "\n",
    "- Create an app list and gather available data from SteamSpy API using 'all' request\n",
    "- Retrieve individual app data from Steam API, by iterating through app list\n",
    "- Export app list, Steam data and SteamSpy data to csv files\n",
    "\n",
    "## API references:\n",
    "\n",
    "- https://partner.steamgames.com/doc/webapi\n",
    "- https://wiki.teamfortress.com/wiki/User:RJackson/StorefrontAPI\n",
    "- https://steamapi.xpaw.me/#\n",
    "- https://steamspy.com/api.php\n",
    "\n",
    "\n",
    "## Credits\n",
    "\n",
    "The most important source I found while looking how to connect to the API was Nik Davis, check his blog for a different analysis on steam data (from 2019) http://nik-davis.github.io\n",
    "Download functions for the APIs are based on his notebook for \"Steam Data Download\". I had to make some changes and simplify a bit.\n",
    "\n",
    "Steamspy seems to have changed its API, so I had to change the download method to instead download all the data by page (set of 1000 ids). The functions defined for Steam API itself still work as is. "
   ]
  },
  {
   "cell_type": "code",
   "execution_count": 1,
   "metadata": {
    "id": "cB_ucVTyXTI3"
   },
   "outputs": [],
   "source": [
    "# standard library imports\n",
    "import csv\n",
    "import datetime as dt\n",
    "import json\n",
    "import os\n",
    "import statistics\n",
    "import time\n",
    "\n",
    "# third-party imports\n",
    "import numpy as np\n",
    "import pandas as pd\n",
    "import requests\n",
    "\n",
    "# customisations - ensure tables show all columns\n",
    "pd.set_option(\"max_columns\", 100)"
   ]
  },
  {
   "cell_type": "code",
   "execution_count": 2,
   "metadata": {},
   "outputs": [],
   "source": [
    "import seaborn as sns\n",
    "import matplotlib.pyplot as plt"
   ]
  },
  {
   "cell_type": "markdown",
   "metadata": {
    "id": "hGVIbrCJXTI4"
   },
   "source": [
    "The next function uses requests library to get JSON response from web APIs. It is based on Nik Davis previous work, and it is quite standard as (thankfully) web APIs use a standard format, and requests makes it really easy."
   ]
  },
  {
   "cell_type": "code",
   "execution_count": 3,
   "metadata": {
    "id": "hggyD3aNXTI5"
   },
   "outputs": [],
   "source": [
    "def get_request(url,parameters=None, steamspy=False):\n",
    "    \"\"\"Return json-formatted response of a get request using optional parameters.\n",
    "    \n",
    "    Parameters\n",
    "    ----------\n",
    "    url : string\n",
    "    parameters : {'parameter': 'value'}\n",
    "        parameters to pass as part of get request\n",
    "    \n",
    "    Returns\n",
    "    -------\n",
    "    json_data\n",
    "        json-formatted response (dict-like)\n",
    "    \"\"\"\n",
    "    try:\n",
    "        response = requests.get(url=url, params=parameters)\n",
    "    except SSLError as s:\n",
    "        print('SSL Error:', s)\n",
    "        \n",
    "        for i in range(5, 0, -1):\n",
    "            print('\\rWaiting... ({})'.format(i), end='')\n",
    "            time.sleep(1)\n",
    "        print('\\rRetrying.' + ' '*10)\n",
    "        \n",
    "        # recursively try again\n",
    "        return get_request(url, parameters, steamspy)\n",
    "    \n",
    "    if response:\n",
    "        return response.json()\n",
    "    else:\n",
    "        # We do not know how many pages steamspy has... and it seems to work well, so we will use no response to stop.\n",
    "        if steamspy:\n",
    "            return \"stop\"\n",
    "        else :\n",
    "            # response is none usually means too many requests. Wait and try again \n",
    "            print('No response, waiting 10 seconds...')\n",
    "            time.sleep(10)\n",
    "            print('Retrying.')\n",
    "            return get_request(url, parameters, steamspy)"
   ]
  },
  {
   "cell_type": "markdown",
   "metadata": {
    "id": "tfR35UFwXTI5"
   },
   "source": [
    "## List of IDs\n",
    "\n",
    "APPs on steam have an unique ID. The requests to Steam API (which has more information than Steam Spy) have to be made for a specific ID. This means we have to get first a list of ids.\n",
    "\n",
    "We can do this in several ways, but this is what I decided to follow:\n",
    "\n",
    "* Using Steam Spy API (see https://steamspy.com/api.php) to get the list of IDs and also the metadata from Steam Spy (at the same time. Unfortunately, using this method got me lots of duplicates and headaches.\n",
    "\n",
    "\n",
    "* Alternatively, we could use Steam API to get a list of apps, then filter them (see https://api.steampowered.com/ISteamApps/GetAppList/v2/? or https://steamapi.xpaw.me/#IStoreService/GetAppInfo)\n",
    "\n",
    "We will do the last alternative, and then get the information from Steam Spy for the available IDs."
   ]
  },
  {
   "cell_type": "markdown",
   "metadata": {},
   "source": [
    "We did not know how many appids were registered in steamspy at 26/1/2022 (steamspy ranks them by user average, it seems), and it seems there are 51k appids.\n",
    "\n",
    "The code above stops if it fails using the steamspy flag, because steamspy API is quite generous and has let us download all the data with just 1s pause between requests (although in their API it says we should wait 60s for a full page request).\n",
    "\n",
    "Instead of telling us that a new page does not exist (by returning a null, in example) it gives us a server error, so this is a way to do it. Steam just returns null in this scenario."
   ]
  },
  {
   "cell_type": "code",
   "execution_count": 4,
   "metadata": {},
   "outputs": [],
   "source": [
    "df_steam_spy = pd.read_csv(\"../data/download/steamspy_appid.csv\")\n",
    "# generate sorted app_list from steamspy data\n",
    "app_list = df_steam_spy[['appid', 'name']].sort_values('appid').reset_index(drop=True)"
   ]
  },
  {
   "cell_type": "code",
   "execution_count": 5,
   "metadata": {},
   "outputs": [
    {
     "name": "stdout",
     "output_type": "stream",
     "text": [
      "<class 'pandas.core.frame.DataFrame'>\n",
      "RangeIndex: 51666 entries, 0 to 51665\n",
      "Data columns (total 18 columns):\n",
      " #   Column           Non-Null Count  Dtype  \n",
      "---  ------           --------------  -----  \n",
      " 0   Unnamed: 0       51666 non-null  int64  \n",
      " 1   appid            51666 non-null  int64  \n",
      " 2   name             51653 non-null  object \n",
      " 3   developer        51443 non-null  object \n",
      " 4   publisher        51495 non-null  object \n",
      " 5   score_rank       44 non-null     float64\n",
      " 6   positive         51666 non-null  int64  \n",
      " 7   negative         51666 non-null  int64  \n",
      " 8   userscore        51666 non-null  int64  \n",
      " 9   owners           51666 non-null  object \n",
      " 10  average_forever  51666 non-null  int64  \n",
      " 11  average_2weeks   51666 non-null  int64  \n",
      " 12  median_forever   51666 non-null  int64  \n",
      " 13  median_2weeks    51666 non-null  int64  \n",
      " 14  price            51637 non-null  float64\n",
      " 15  initialprice     51644 non-null  float64\n",
      " 16  discount         51644 non-null  float64\n",
      " 17  ccu              51666 non-null  int64  \n",
      "dtypes: float64(4), int64(10), object(4)\n",
      "memory usage: 7.1+ MB\n"
     ]
    }
   ],
   "source": [
    "df_steam_spy.info()"
   ]
  },
  {
   "cell_type": "code",
   "execution_count": 6,
   "metadata": {},
   "outputs": [
    {
     "data": {
      "text/plain": [
       "1377"
      ]
     },
     "execution_count": 6,
     "metadata": {},
     "output_type": "execute_result"
    }
   ],
   "source": [
    "df_steam_spy[\"appid\"].duplicated().sum()"
   ]
  },
  {
   "cell_type": "markdown",
   "metadata": {},
   "source": [
    "By checking the duplicated by appid, we can already see that there is some issue with this approach. It would be better to get the full steam list from Steam Store, and come back to see if we can get the data individually from Steam Spy."
   ]
  },
  {
   "cell_type": "markdown",
   "metadata": {
    "id": "rx8MClSGXTI6"
   },
   "source": [
    "## Define Download Logic\n",
    "\n",
    "This is strongly based on Nik Davis previous work, to get the info about the app IDs from Steam. Initially I prefered to focus on the analysis rather than in the acquisition phase, but I watn to modify these functions to change them from an index based approach for the update, to instead check already existing ids in the database and download only the delta.\n",
    "\n",
    "Later, we could maybe also add a check to see if the app has been updated or not and even redownload the info from not just new IDs, but IDs that have been updated.\n",
    "\n",
    "I will keep the original comments from Nik Davis `in quotes` to let the reader understand the process.\n",
    "\n",
    "`Now we have the app_list dataframe, we can iterate over the app IDs and request individual app data from the servers. Here we set out our logic to retrieve and process this information, then finally store the data as a csv file.`\n",
    "\n",
    "`Because it takes a long time to retrieve the data, it would be dangerous to attempt it all in one go as any errors or connection time-outs could cause the loss of all our data. For this reason we define a function to download and process the requests in batches, appending each batch to an external file and keeping track of the highest index written in a separate file.`\n",
    "\n",
    "`This not only provides security, allowing us to easily restart the process if an error is encountered, but also means we can complete the download across multiple sessions.`\n",
    "\n",
    "`Again, we provide verbose output for rows exported, batches complete, time taken and estimated time remaining.`"
   ]
  },
  {
   "cell_type": "code",
   "execution_count": 8,
   "metadata": {
    "id": "1eLPdKoGXTI6",
    "scrolled": false
   },
   "outputs": [],
   "source": [
    "def get_app_data(app_list, start, stop, parser, pause):\n",
    "    \"\"\"Return list of app data generated from parser.\n",
    "    \n",
    "    parser : function to handle request\n",
    "    \"\"\"\n",
    "    app_data = []\n",
    "    \n",
    "    # iterate through each row of app_list, confined by start and stop\n",
    "    for index, appid in app_list[start:stop].iteritems():\n",
    "        print('Current index: {}'.format(index), end='\\r')\n",
    "\n",
    "        # retrive app data for a row, handled by supplied parser, and append to list\n",
    "        data = parser(appid)\n",
    "        app_data.append(data)\n",
    "\n",
    "        time.sleep(pause) # prevent overloading api with requests\n",
    "    \n",
    "    return app_data\n",
    "\n",
    "\n",
    "def process_batches(parser, app_list, download_path, data_filename, index_filename,\n",
    "                    columns, begin=0, end=-1, batchsize=100, pause=1):\n",
    "    \"\"\"Process app data in batches, writing directly to file.\n",
    "    \n",
    "    parser : custom function to format request\n",
    "    app_list : dataframe of appid and name\n",
    "    download_path : path to store data\n",
    "    data_filename : filename to save app data\n",
    "    index_filename : filename to store highest index written\n",
    "    columns : column names for file\n",
    "    \n",
    "    Keyword arguments:\n",
    "    \n",
    "    begin : starting index (get from index_filename, default 0)\n",
    "    end : index to finish (defaults to end of app_list)\n",
    "    batchsize : number of apps to write in each batch (default 100)\n",
    "    pause : time to wait after each api request (defualt 1)\n",
    "    \n",
    "    returns: none\n",
    "    \"\"\"\n",
    "    print('Starting at index {}:\\n'.format(begin))\n",
    "    \n",
    "    # by default, process all apps in app_list\n",
    "    if end == -1:\n",
    "        end = len(app_list) + 1\n",
    "    \n",
    "    # generate array of batch begin and end points\n",
    "    batches = np.arange(begin, end, batchsize)\n",
    "    batches = np.append(batches, end)\n",
    "    \n",
    "    apps_written = 0\n",
    "    batch_times = []\n",
    "    \n",
    "    for i in range(len(batches) - 1):\n",
    "        start_time = time.time()\n",
    "        \n",
    "        start = batches[i]\n",
    "        stop = batches[i+1]\n",
    "        \n",
    "        app_data = get_app_data(app_list, start, stop, parser, pause)\n",
    "        \n",
    "        rel_path = os.path.join(download_path, data_filename)\n",
    "        \n",
    "        # writing app data to file\n",
    "        with open(rel_path, 'a', newline='', encoding='utf-8') as f:\n",
    "            writer = csv.DictWriter(f, fieldnames=columns, extrasaction='ignore')\n",
    "            \n",
    "            for j in range(3,0,-1):\n",
    "                print(\"\\rAbout to write data, don't stop script! ({})\".format(j), end='')\n",
    "                time.sleep(0.5)\n",
    "            \n",
    "            writer.writerows(app_data)\n",
    "            print('\\rExported lines {}-{} to {}.'.format(start, stop-1, data_filename), end=' ')\n",
    "            \n",
    "        apps_written += len(app_data)\n",
    "        \n",
    "        idx_path = os.path.join(download_path, index_filename)\n",
    "        \n",
    "        # writing last index to file\n",
    "        with open(idx_path, 'w') as f:\n",
    "            index = stop\n",
    "            print(index, file=f)\n",
    "            \n",
    "        # logging time taken\n",
    "        end_time = time.time()\n",
    "        time_taken = end_time - start_time\n",
    "        \n",
    "        batch_times.append(time_taken)\n",
    "        mean_time = statistics.mean(batch_times)\n",
    "        \n",
    "        est_remaining = (len(batches) - i - 2) * mean_time\n",
    "        \n",
    "        remaining_td = dt.timedelta(seconds=round(est_remaining))\n",
    "        time_td = dt.timedelta(seconds=round(time_taken))\n",
    "        mean_td = dt.timedelta(seconds=round(mean_time))\n",
    "        \n",
    "        print('Batch {} time: {} (avg: {}, remaining: {})'.format(i, time_td, mean_td, remaining_td))\n",
    "            \n",
    "    print('\\nProcessing batches complete. {} apps written'.format(apps_written))"
   ]
  },
  {
   "cell_type": "markdown",
   "metadata": {},
   "source": [
    "The best way to use this function and still only get the newer apps, would be to instead of passing it the fully app_list, preprocess it so it only contains the \"app_delta\". Also we would need it to keep the final dataframe in a different file, to perform after an append to it (in case we are adding only new app_ids), or if we add some kind of updating process, a join."
   ]
  },
  {
   "cell_type": "markdown",
   "metadata": {
    "id": "RP2UaFpyXTI7"
   },
   "source": [
    "`Next we define some functions to handle and prepare the external files.`\n",
    "\n",
    "`We use reset_index for testing and demonstration, allowing us to easily reset the index in the stored file to 0, effectively restarting the entire download process.`\n",
    "\n",
    "`We define get_index to retrieve the index from file, maintaining persistence across sessions. Every time a batch of information (app data) is written to file, we write the highest index within app_data that was retrieved. As stated, this is partially for security, ensuring that if there is an error during the download we can read the index from file and continue from the end of the last successful batch. Keeping track of the index also allows us to pause the download, continuing at a later time.`\n",
    "\n",
    "`Finally, the prepare_data_file function readies the csv for storing the data. If the index we retrieved is 0, it means we are either starting for the first time or starting over. In either case, we want a blank csv file with only the header row to begin writing to, se we wipe the file (by opening in write mode) and write the header. Conversely, if the index is anything other than 0, it means we already have downloaded information, and can leave the csv file alone.`"
   ]
  },
  {
   "cell_type": "code",
   "execution_count": 9,
   "metadata": {
    "id": "79z_mTOoXTI7"
   },
   "outputs": [],
   "source": [
    "def reset_index(download_path, index_filename):\n",
    "    \"\"\"Reset index in file to 0.\"\"\"\n",
    "    rel_path = os.path.join(download_path, index_filename)\n",
    "    \n",
    "    f= open(rel_path, 'w')\n",
    "    f.write(\"0\")\n",
    "        \n",
    "\n",
    "def get_index(download_path, index_filename):\n",
    "    \"\"\"Retrieve index from file, returning 0 if file not found.\"\"\"\n",
    "    try:\n",
    "        rel_path = os.path.join(download_path, index_filename)\n",
    "\n",
    "        with open(rel_path, 'r') as f:\n",
    "            index = int(f.readline())\n",
    "            #This just reads the initial line\n",
    "    \n",
    "    except FileNotFoundError:\n",
    "        index = 0\n",
    "        \n",
    "    return index\n",
    "\n",
    "\n",
    "def prepare_data_file(download_path, filename, index, columns):\n",
    "    \"\"\"Create file and write headers if index is 0.\"\"\"\n",
    "    if index == 0:\n",
    "        rel_path = os.path.join(download_path, filename)\n",
    "\n",
    "        with open(rel_path, 'w', newline='') as f:\n",
    "            writer = csv.DictWriter(f, fieldnames=columns)\n",
    "            writer.writeheader()"
   ]
  },
  {
   "cell_type": "markdown",
   "metadata": {
    "id": "OnD4UGAnXTI7"
   },
   "source": [
    "## Download Steam Data\n",
    "\n",
    "`Now we are ready to start downloading data and writing to file. We define our logic particular to handling the steam API - in fact if no data is returned we return just the name and appid - then begin setting some parameters. We define the files we will write our data and index to, and the columns for the csv file. The API doesn't return every column for every app, so it is best to explicitly set these.`\n",
    "\n",
    "`Next we run our functions to set up the files, and make a call to process_batches to begin the process. Some additional parameters have been added for demonstration, to constrain the download to just a few rows and smaller batches. Removing these would allow the entire download process to be repeated.`\n",
    "\n",
    "I retouched many of these parameters just to check if the download could made in batches (requesting several steamapps at the same time), or even putting a faster polling rate (right now it is one second).\n",
    "\n",
    "The storefront API (http://store.steampowered.com/api/) is very much undocumented, but the key getaway is that is not possible. The official SteamWorks API lets us do other things and it is quite well documented, but we cannot get the data available at a steam webpage, which are the things interesting for us.\n",
    "\n",
    "The storefront API is only accessible with these [requests](https://wiki.teamfortress.com/wiki/User:RJackson/StorefrontAPI), and according to this [stackoverflow discussion](https://stackoverflow.com/questions/46330864/steam-api-all-games):\n",
    "`There is a general API rate limit for each unique IP adress of 200 requests in five minutes which is one request every 1.5 seconds.` This matches our experience, Nik Davis put a pause between requests of just 1 second, and with this we get some but a few reconnect errors. If we put no pause at all, at the end we are limited by the 200 requests every 5 minutes.\n",
    "\n",
    "That means that for a volume of around 50k at January 2022 (the steam apps available also at steam spy, already filtered by game and some owner data...) this download will take around 21 hours. Thankfully we can resume it and do it in several batches.\n",
    "\n",
    "If we were to build a web app and we wanted to update the information daily, we could instead try pulling the full applist from steam along with the \"last updated\" and only request the full appid information for those ids. This is probably what Steam Spy does, and SteamDB instead uses a more sofisticated approach by being notified of any changes to appids via steamworks.\n",
    "\n",
    "In any case, for a one shot analysis (and not a web page where the user could explore the information), the full download approach is fine."
   ]
  },
  {
   "cell_type": "markdown",
   "metadata": {},
   "source": [
    "The goal of the next two functions is getting the full list of apps from Steam, and also getting from our already downloaded data (if any) which are the appids we already have, to get the \"delta\" so we only have to download the new app ids.\n",
    "\n",
    "We could retouch them a bit, as they have a \"last updated\" key, so we also update new information and not just new ids. But that would be more suitable for a live webpage updated once a day, not for a full on analysis like we are presenting."
   ]
  },
  {
   "cell_type": "code",
   "execution_count": 10,
   "metadata": {},
   "outputs": [],
   "source": [
    "def getAppListBatch(url, parameters):\n",
    "    json_data = get_request(url, parameters=parameters)\n",
    "    steam_id = pd.DataFrame.from_dict(json_data[\"response\"][\"apps\"])\n",
    "    try:\n",
    "        more_results = json_data[\"response\"][\"have_more_results\"]\n",
    "        last_appid =  json_data[\"response\"][\"last_appid\"]\n",
    "    except:\n",
    "        more_results = False\n",
    "        last_appid = False\n",
    "    return more_results, steam_id, last_appid\n",
    "\n",
    "def get_update_ids_old(updatedlist, oldlist):\n",
    "    updatedlist['key1'] = 1\n",
    "    oldlist['key2'] = 1\n",
    "    updatedlist = pd.merge(updatedlist, oldlist, right_on=['steam_appid','name'],left_on=['appid','name'], how = 'outer')\n",
    "    updatedlist = updatedlist[~(updatedlist.key2 == updatedlist.key1)]\n",
    "    updatedlist = updatedlist.drop(['key1','key2','steam_appid'], axis=1)\n",
    "    return updatedlist\n",
    "\n",
    "def get_update_ids(idList, oldFullList):\n",
    "    #We are going to forget about names and only care about IDs.\n",
    "    idList = idList[\"appid\"]\n",
    "    oldFullList = oldFullList[\"steam_appid\"]\n",
    "    oldFullList.columns = [\"appid\"]\n",
    "    updatedList = idList.append(oldFullList)\n",
    "    updatedList = updatedList.drop_duplicates(keep=False)\n",
    "    updatedList = updatedList.reset_index(drop=True)\n",
    "    return updatedList\n"
   ]
  },
  {
   "cell_type": "code",
   "execution_count": 11,
   "metadata": {},
   "outputs": [],
   "source": [
    "def getAppList():\n",
    "    with open('../data/steam_key.txt') as f:\n",
    "        key = f.read()\n",
    "\n",
    "    url = \"https://api.steampowered.com/IStoreService/GetAppList/v1/?\"\n",
    "    parameters = {\"key\": key}\n",
    "    more_results = True\n",
    "    begin = True\n",
    "    # from the request we get the more_results flag and also the last_appid, so we use them for the next requests.\n",
    "    while (more_results):\n",
    "        more_results, steam_ids, last_appid = getAppListBatch(url, parameters)\n",
    "        parameters[\"last_appid\"] = last_appid\n",
    "        if (begin):\n",
    "            steam_allids = steam_ids\n",
    "            begin = False\n",
    "        else:\n",
    "            steam_allids = steam_allids.append(steam_ids)\n",
    "    return steam_allids\n",
    "# request 'all' from steam spy and parse into dataframe"
   ]
  },
  {
   "cell_type": "code",
   "execution_count": 13,
   "metadata": {
    "colab": {
     "base_uri": "https://localhost:8080/",
     "height": 356
    },
    "id": "W7e3eUD2XTI8",
    "outputId": "3dced899-ac96-42b4-e779-2e7cf68c4234",
    "scrolled": true
   },
   "outputs": [],
   "source": [
    "def parse_steam_request(appid):\n",
    "    \"\"\"Unique parser to handle data from Steam Store API.\n",
    "    \n",
    "    Returns : json formatted data (dict-like)\n",
    "    \"\"\"\n",
    "    url = \"http://store.steampowered.com/api/appdetails/\"\n",
    "    parameters = {\"appids\": appid, \"key\":\"CFDD73A08F5BD5ACD3197173F81E5563\"}\n",
    "    \n",
    "    json_data = get_request(url, parameters=parameters)\n",
    "    json_app_data = json_data[str(appid)]\n",
    "    \n",
    "    if json_app_data['success']:\n",
    "        data = json_app_data['data']\n",
    "    else:\n",
    "        data = {'steam_appid': appid}\n",
    "        \n",
    "    return data\n",
    "\n",
    "\n",
    "# Set file parameters\n",
    "download_path = '../data/download/'\n",
    "steam_app_data = 'steam_app_data.csv'\n",
    "steam_app_data_delta = 'steam_app_data_delta.csv'\n",
    "steam_index = 'steam_index.txt'\n",
    "\n",
    "steam_columns = [\n",
    "    'type', 'name', 'steam_appid', 'required_age', 'is_free', 'controller_support',\n",
    "    'dlc', 'detailed_description', 'about_the_game', 'short_description', 'fullgame',\n",
    "    'supported_languages', 'header_image', 'website', 'pc_requirements', 'mac_requirements',\n",
    "    'linux_requirements', 'legal_notice', 'drm_notice', 'ext_user_account_notice',\n",
    "    'developers', 'publishers', 'demos', 'price_overview', 'packages', 'package_groups',\n",
    "    'platforms', 'metacritic', 'reviews', 'categories', 'genres', 'screenshots',\n",
    "    'movies', 'recommendations', 'achievements', 'release_date', 'support_info',\n",
    "    'background', 'content_descriptors'\n",
    "]\n",
    "\n",
    "# Overwrites last index for demonstration (would usually store highest index so can continue across sessions)\n",
    "if (os.path.isfile(download_path+steam_app_data_delta) == False):\n",
    "    reset_index(download_path, steam_index)\n",
    "\n",
    "# Retrieve last index downloaded from file\n",
    "index = get_index(download_path, steam_index)\n",
    "\n",
    "# Wipe or create data file and write headers if no previous  data\n",
    "if (os.path.isfile(download_path+steam_app_data) == False):\n",
    "    prepare_data_file(download_path, steam_app_data, index, steam_columns)\n",
    "    \n",
    "# Wipe or create data file delta and write headers if index is 0\n",
    "if (os.path.isfile(download_path+steam_app_data_delta) == False):\n",
    "    prepare_data_file(download_path, steam_app_data_delta, index, steam_columns)\n",
    "    \n",
    "    \n",
    "# Here we get the list of appids from steam\n",
    "full_steam_ids = getAppList()\n",
    "\n",
    "# Here we get the real list of ids not yet in our dataframe. If this is the first time we are downloading the data, we can skip\n",
    "# This step and instead use the full app_list.\n",
    "try:\n",
    "    oldlist = pd.read_csv('../data/download/steam_app_data.csv', usecols = ['name','steam_appid'])\n",
    "    steam_ids = get_update_ids(full_steam_ids, oldlist)\n",
    "except FileNotFoundError:\n",
    "    print(\"Pre-existing file not found. First time downloading full app data from steam. This will take a while.\\n\")\n",
    "    steam_ids = full_steam_ids\n",
    "\n"
   ]
  },
  {
   "cell_type": "code",
   "execution_count": 42,
   "metadata": {},
   "outputs": [
    {
     "name": "stdout",
     "output_type": "stream",
     "text": [
      "New IDs detected: 20247\n"
     ]
    }
   ],
   "source": [
    "print(\"New IDs detected: \"+str(len(steam_ids)))"
   ]
  },
  {
   "cell_type": "code",
   "execution_count": 43,
   "metadata": {},
   "outputs": [
    {
     "name": "stdout",
     "output_type": "stream",
     "text": [
      "Adding 20247 new ids.\n",
      "\n",
      "Starting at index 0:\n",
      "\n",
      "Exported lines 0-99 to steam_app_data_delta.csv. Batch 0 time: 0:02:29 (avg: 0:02:29, remaining: 8:20:06)\n",
      "Exported lines 100-199 to steam_app_data_delta.csv. Batch 1 time: 0:02:30 (avg: 0:02:29, remaining: 8:19:53)\n",
      "No response, waiting 10 seconds...\n",
      "Retrying.\n",
      "Exported lines 200-299 to steam_app_data_delta.csv. Batch 2 time: 0:02:39 (avg: 0:02:33, remaining: 8:28:39)\n",
      "Exported lines 300-399 to steam_app_data_delta.csv. Batch 3 time: 0:02:30 (avg: 0:02:32, remaining: 8:24:09)\n",
      "Exported lines 400-499 to steam_app_data_delta.csv. Batch 4 time: 0:02:28 (avg: 0:02:31, remaining: 8:19:03)\n",
      "Exported lines 500-599 to steam_app_data_delta.csv. Batch 5 time: 0:02:28 (avg: 0:02:31, remaining: 8:14:47)\n",
      "No response, waiting 10 seconds...\n",
      "Retrying.\n",
      "Exported lines 600-699 to steam_app_data_delta.csv. Batch 6 time: 0:02:39 (avg: 0:02:32, remaining: 8:16:10)\n",
      "Exported lines 700-799 to steam_app_data_delta.csv. Batch 7 time: 0:02:30 (avg: 0:02:32, remaining: 8:12:53)\n",
      "No response, waiting 10 seconds...\n",
      "Retrying.\n",
      "Exported lines 800-899 to steam_app_data_delta.csv. Batch 8 time: 0:02:38 (avg: 0:02:32, remaining: 8:12:43)\n",
      "Exported lines 900-999 to steam_app_data_delta.csv. Batch 9 time: 0:02:26 (avg: 0:02:32, remaining: 8:08:12)\n",
      "No response, waiting 10 seconds...\n",
      "Retrying.\n",
      "Exported lines 1000-1099 to steam_app_data_delta.csv. Batch 10 time: 0:02:36 (avg: 0:02:32, remaining: 8:07:00)\n",
      "Exported lines 1100-1199 to steam_app_data_delta.csv. Batch 11 time: 0:02:25 (avg: 0:02:32, remaining: 8:02:41)\n",
      "No response, waiting 10 seconds...\n",
      "Retrying.\n",
      "Exported lines 1200-1299 to steam_app_data_delta.csv. Batch 12 time: 0:02:36 (avg: 0:02:32, remaining: 8:01:07)\n",
      "Exported lines 1300-1399 to steam_app_data_delta.csv. Batch 13 time: 0:02:25 (avg: 0:02:31, remaining: 7:57:00)\n",
      "No response, waiting 10 seconds...\n",
      "Retrying.\n",
      "Exported lines 1400-1499 to steam_app_data_delta.csv. Batch 14 time: 0:02:37 (avg: 0:02:32, remaining: 7:55:34)\n",
      "Exported lines 1500-1599 to steam_app_data_delta.csv. Batch 15 time: 0:02:25 (avg: 0:02:31, remaining: 7:51:40)\n",
      "No response, waiting 10 seconds...\n",
      "Retrying.\n",
      "Exported lines 1600-1699 to steam_app_data_delta.csv. Batch 16 time: 0:02:36 (avg: 0:02:32, remaining: 7:49:55)\n",
      "Exported lines 1700-1799 to steam_app_data_delta.csv. Batch 17 time: 0:02:26 (avg: 0:02:31, remaining: 7:46:22)\n",
      "No response, waiting 10 seconds...\n",
      "Retrying.\n",
      "Exported lines 1800-1899 to steam_app_data_delta.csv. Batch 18 time: 0:02:36 (avg: 0:02:31, remaining: 7:44:36)\n",
      "Exported lines 1900-1999 to steam_app_data_delta.csv. Batch 19 time: 0:02:26 (avg: 0:02:31, remaining: 7:41:12)\n",
      "No response, waiting 10 seconds...\n",
      "Retrying.\n",
      "Exported lines 2000-2099 to steam_app_data_delta.csv. Batch 20 time: 0:02:39 (avg: 0:02:32, remaining: 7:39:48)\n",
      "Exported lines 2100-2199 to steam_app_data_delta.csv. Batch 21 time: 0:02:26 (avg: 0:02:31, remaining: 7:36:34)\n",
      "No response, waiting 10 seconds...\n",
      "Retrying.\n",
      "Exported lines 2200-2299 to steam_app_data_delta.csv. Batch 22 time: 0:02:38 (avg: 0:02:32, remaining: 7:34:52)\n",
      "Exported lines 2300-2399 to steam_app_data_delta.csv. Batch 23 time: 0:02:27 (avg: 0:02:31, remaining: 7:31:45)\n",
      "No response, waiting 10 seconds...\n",
      "Retrying.\n",
      "Exported lines 2400-2499 to steam_app_data_delta.csv. Batch 24 time: 0:02:36 (avg: 0:02:32, remaining: 7:29:47)\n",
      "Exported lines 2500-2599 to steam_app_data_delta.csv. Batch 25 time: 0:02:45 (avg: 0:02:32, remaining: 7:28:49)\n",
      "Exported lines 2600-2699 to steam_app_data_delta.csv. Batch 26 time: 0:02:30 (avg: 0:02:32, remaining: 7:26:01)\n",
      "No response, waiting 10 seconds...\n",
      "Retrying.\n",
      "Exported lines 2700-2799 to steam_app_data_delta.csv. Batch 27 time: 0:02:37 (avg: 0:02:32, remaining: 7:23:59)\n",
      "Exported lines 2800-2899 to steam_app_data_delta.csv. Batch 28 time: 0:02:28 (avg: 0:02:32, remaining: 7:21:01)\n",
      "No response, waiting 10 seconds...\n",
      "Retrying.\n",
      "Exported lines 2900-2999 to steam_app_data_delta.csv. Batch 29 time: 0:02:36 (avg: 0:02:32, remaining: 7:18:52)\n",
      "Exported lines 3000-3099 to steam_app_data_delta.csv. Batch 30 time: 0:02:25 (avg: 0:02:32, remaining: 7:15:42)\n",
      "No response, waiting 10 seconds...\n",
      "Retrying.\n",
      "Exported lines 3100-3199 to steam_app_data_delta.csv. Batch 31 time: 0:02:36 (avg: 0:02:32, remaining: 7:13:34)\n",
      "Exported lines 3200-3299 to steam_app_data_delta.csv. Batch 32 time: 0:02:26 (avg: 0:02:32, remaining: 7:10:29)\n",
      "No response, waiting 10 seconds...\n",
      "Retrying.\n",
      "Exported lines 3300-3399 to steam_app_data_delta.csv. Batch 33 time: 0:02:36 (avg: 0:02:32, remaining: 7:08:18)\n",
      "Exported lines 3400-3499 to steam_app_data_delta.csv. Batch 34 time: 0:02:26 (avg: 0:02:32, remaining: 7:05:15)\n",
      "No response, waiting 10 seconds...\n",
      "Retrying.\n",
      "Exported lines 3500-3599 to steam_app_data_delta.csv. Batch 35 time: 0:02:38 (avg: 0:02:32, remaining: 7:03:10)\n",
      "Exported lines 3600-3699 to steam_app_data_delta.csv. Batch 36 time: 0:02:26 (avg: 0:02:32, remaining: 7:00:11)\n",
      "No response, waiting 10 seconds...\n",
      "Retrying.\n",
      "Exported lines 3700-3799 to steam_app_data_delta.csv. Batch 37 time: 0:02:39 (avg: 0:02:32, remaining: 6:58:10)\n",
      "Exported lines 3800-3899 to steam_app_data_delta.csv. Batch 38 time: 0:02:29 (avg: 0:02:32, remaining: 6:55:24)\n",
      "No response, waiting 10 seconds...\n",
      "Retrying.\n",
      "Exported lines 3900-3999 to steam_app_data_delta.csv. Batch 39 time: 0:02:38 (avg: 0:02:32, remaining: 6:53:17)\n",
      "Exported lines 4000-4099 to steam_app_data_delta.csv. Batch 40 time: 0:02:30 (avg: 0:02:32, remaining: 6:50:37)\n",
      "Exported lines 4100-4199 to steam_app_data_delta.csv. Batch 41 time: 0:02:36 (avg: 0:02:32, remaining: 6:48:20)\n",
      "Exported lines 4200-4299 to steam_app_data_delta.csv. Batch 42 time: 0:02:28 (avg: 0:02:32, remaining: 6:45:31)\n",
      "No response, waiting 10 seconds...\n",
      "Retrying.\n",
      "Exported lines 4300-4399 to steam_app_data_delta.csv. Batch 43 time: 0:02:38 (avg: 0:02:32, remaining: 6:43:22)\n",
      "Exported lines 4400-4499 to steam_app_data_delta.csv. Batch 44 time: 0:02:25 (avg: 0:02:32, remaining: 6:40:25)\n",
      "No response, waiting 10 seconds...\n",
      "Retrying.\n",
      "Exported lines 4500-4599 to steam_app_data_delta.csv. Batch 45 time: 0:02:36 (avg: 0:02:32, remaining: 6:38:06)\n",
      "Exported lines 4600-4699 to steam_app_data_delta.csv. Batch 46 time: 0:02:26 (avg: 0:02:32, remaining: 6:35:14)\n",
      "No response, waiting 10 seconds...\n",
      "Retrying.\n",
      "Exported lines 4700-4799 to steam_app_data_delta.csv. Batch 47 time: 0:02:41 (avg: 0:02:32, remaining: 6:33:10)\n",
      "Exported lines 4800-4899 to steam_app_data_delta.csv. Batch 48 time: 0:02:27 (avg: 0:02:32, remaining: 6:30:20)\n",
      "No response, waiting 10 seconds...\n",
      "Retrying.\n",
      "Exported lines 4900-4999 to steam_app_data_delta.csv. Batch 49 time: 0:02:37 (avg: 0:02:32, remaining: 6:28:02)\n",
      "Exported lines 5000-5099 to steam_app_data_delta.csv. Batch 50 time: 0:02:26 (avg: 0:02:32, remaining: 6:25:12)\n",
      "No response, waiting 10 seconds...\n",
      "Retrying.\n",
      "Exported lines 5100-5199 to steam_app_data_delta.csv. Batch 51 time: 0:02:36 (avg: 0:02:32, remaining: 6:22:51)\n",
      "Exported lines 5200-5299 to steam_app_data_delta.csv. Batch 52 time: 0:02:28 (avg: 0:02:32, remaining: 6:20:06)\n",
      "No response, waiting 10 seconds...\n",
      "Retrying.\n",
      "Exported lines 5300-5399 to steam_app_data_delta.csv. Batch 53 time: 0:02:37 (avg: 0:02:32, remaining: 6:17:46)\n",
      "Exported lines 5400-5499 to steam_app_data_delta.csv. Batch 54 time: 0:02:27 (avg: 0:02:32, remaining: 6:15:01)\n",
      "No response, waiting 10 seconds...\n",
      "Retrying.\n",
      "Exported lines 5500-5599 to steam_app_data_delta.csv. Batch 55 time: 0:02:38 (avg: 0:02:32, remaining: 6:12:44)\n",
      "Exported lines 5600-5699 to steam_app_data_delta.csv. Batch 56 time: 0:02:26 (avg: 0:02:32, remaining: 6:09:56)\n",
      "No response, waiting 10 seconds...\n",
      "Retrying.\n",
      "Exported lines 5700-5799 to steam_app_data_delta.csv. Batch 57 time: 0:02:37 (avg: 0:02:32, remaining: 6:07:36)\n",
      "Exported lines 5800-5899 to steam_app_data_delta.csv. Batch 58 time: 0:02:26 (avg: 0:02:32, remaining: 6:04:49)\n",
      "No response, waiting 10 seconds...\n",
      "Retrying.\n",
      "Exported lines 5900-5999 to steam_app_data_delta.csv. Batch 59 time: 0:02:37 (avg: 0:02:32, remaining: 6:02:30)\n",
      "Exported lines 6000-6099 to steam_app_data_delta.csv. Batch 60 time: 0:02:27 (avg: 0:02:32, remaining: 5:59:46)\n",
      "No response, waiting 10 seconds...\n",
      "Retrying.\n",
      "Exported lines 6100-6199 to steam_app_data_delta.csv. Batch 61 time: 0:02:38 (avg: 0:02:32, remaining: 5:57:27)\n"
     ]
    },
    {
     "name": "stdout",
     "output_type": "stream",
     "text": [
      "Exported lines 6200-6299 to steam_app_data_delta.csv. Batch 62 time: 0:02:31 (avg: 0:02:32, remaining: 5:54:53)\n",
      "Exported lines 6300-6399 to steam_app_data_delta.csv. Batch 63 time: 0:02:29 (avg: 0:02:32, remaining: 5:52:15)\n",
      "Exported lines 6400-6499 to steam_app_data_delta.csv. Batch 64 time: 0:02:30 (avg: 0:02:32, remaining: 5:49:38)\n",
      "No response, waiting 10 seconds...\n",
      "Retrying.\n",
      "Exported lines 6500-6599 to steam_app_data_delta.csv. Batch 65 time: 0:02:38 (avg: 0:02:32, remaining: 5:47:18)\n",
      "Exported lines 6600-6699 to steam_app_data_delta.csv. Batch 66 time: 0:02:26 (avg: 0:02:32, remaining: 5:44:34)\n",
      "No response, waiting 10 seconds...\n",
      "Retrying.\n",
      "Exported lines 6700-6799 to steam_app_data_delta.csv. Batch 67 time: 0:02:40 (avg: 0:02:32, remaining: 5:42:18)\n",
      "Exported lines 6800-6899 to steam_app_data_delta.csv. Batch 68 time: 0:02:27 (avg: 0:02:32, remaining: 5:39:37)\n",
      "No response, waiting 10 seconds...\n",
      "Retrying.\n",
      "Exported lines 6900-6999 to steam_app_data_delta.csv. Batch 69 time: 0:02:40 (avg: 0:02:32, remaining: 5:37:19)\n",
      "Exported lines 7000-7099 to steam_app_data_delta.csv. Batch 70 time: 0:02:29 (avg: 0:02:32, remaining: 5:34:40)\n",
      "No response, waiting 10 seconds...\n",
      "Retrying.\n",
      "Exported lines 7100-7199 to steam_app_data_delta.csv. Batch 71 time: 0:02:36 (avg: 0:02:32, remaining: 5:32:16)\n",
      "Exported lines 7200-7299 to steam_app_data_delta.csv. Batch 72 time: 0:02:27 (avg: 0:02:32, remaining: 5:29:35)\n",
      "No response, waiting 10 seconds...\n",
      "Retrying.\n",
      "Exported lines 7300-7399 to steam_app_data_delta.csv. Batch 73 time: 0:02:38 (avg: 0:02:32, remaining: 5:27:13)\n",
      "Exported lines 7400-7499 to steam_app_data_delta.csv. Batch 74 time: 0:02:27 (avg: 0:02:32, remaining: 5:24:33)\n",
      "No response, waiting 10 seconds...\n",
      "Retrying.\n",
      "Exported lines 7500-7599 to steam_app_data_delta.csv. Batch 75 time: 0:02:40 (avg: 0:02:32, remaining: 5:22:13)\n",
      "Exported lines 7600-7699 to steam_app_data_delta.csv. Batch 76 time: 0:02:28 (avg: 0:02:32, remaining: 5:19:34)\n",
      "No response, waiting 10 seconds...\n",
      "Retrying.\n",
      "Exported lines 7700-7799 to steam_app_data_delta.csv. Batch 77 time: 0:02:37 (avg: 0:02:32, remaining: 5:17:10)\n",
      "Exported lines 7800-7899 to steam_app_data_delta.csv. Batch 78 time: 0:02:27 (avg: 0:02:32, remaining: 5:14:29)\n",
      "No response, waiting 10 seconds...\n",
      "Retrying.\n",
      "Exported lines 7900-7999 to steam_app_data_delta.csv. Batch 79 time: 0:02:37 (avg: 0:02:32, remaining: 5:12:05)\n",
      "Exported lines 8000-8099 to steam_app_data_delta.csv. Batch 80 time: 0:02:29 (avg: 0:02:32, remaining: 5:09:27)\n",
      "No response, waiting 10 seconds...\n",
      "Retrying.\n",
      "Exported lines 8100-8199 to steam_app_data_delta.csv. Batch 81 time: 0:02:38 (avg: 0:02:32, remaining: 5:07:04)\n",
      "Exported lines 8200-8299 to steam_app_data_delta.csv. Batch 82 time: 0:02:28 (avg: 0:02:32, remaining: 5:04:25)\n",
      "No response, waiting 10 seconds...\n",
      "Retrying.\n",
      "Exported lines 8300-8399 to steam_app_data_delta.csv. Batch 83 time: 0:02:40 (avg: 0:02:32, remaining: 5:02:03)\n",
      "Exported lines 8400-8499 to steam_app_data_delta.csv. Batch 84 time: 0:02:26 (avg: 0:02:32, remaining: 4:59:22)\n",
      "No response, waiting 10 seconds...\n",
      "Retrying.\n",
      "Exported lines 8500-8599 to steam_app_data_delta.csv. Batch 85 time: 0:02:42 (avg: 0:02:32, remaining: 4:57:04)\n",
      "Exported lines 8600-8699 to steam_app_data_delta.csv. Batch 86 time: 0:02:27 (avg: 0:02:32, remaining: 4:54:24)\n",
      "No response, waiting 10 seconds...\n",
      "Retrying.\n",
      "Exported lines 8700-8799 to steam_app_data_delta.csv. Batch 87 time: 0:02:38 (avg: 0:02:32, remaining: 4:51:59)\n",
      "Exported lines 8800-8899 to steam_app_data_delta.csv. Batch 88 time: 0:02:26 (avg: 0:02:32, remaining: 4:49:19)\n",
      "No response, waiting 10 seconds...\n",
      "Retrying.\n",
      "Exported lines 8900-8999 to steam_app_data_delta.csv. Batch 89 time: 0:02:39 (avg: 0:02:32, remaining: 4:46:55)\n",
      "Exported lines 9000-9099 to steam_app_data_delta.csv. Batch 90 time: 0:02:27 (avg: 0:02:32, remaining: 4:44:16)\n",
      "No response, waiting 10 seconds...\n",
      "Retrying.\n",
      "Exported lines 9100-9199 to steam_app_data_delta.csv. Batch 91 time: 0:02:38 (avg: 0:02:32, remaining: 4:41:50)\n",
      "Exported lines 9200-9299 to steam_app_data_delta.csv. Batch 92 time: 0:02:29 (avg: 0:02:32, remaining: 4:39:15)\n",
      "No response, waiting 10 seconds...\n",
      "Retrying.\n",
      "Exported lines 9300-9399 to steam_app_data_delta.csv. Batch 93 time: 0:02:41 (avg: 0:02:32, remaining: 4:36:52)\n",
      "Exported lines 9400-9499 to steam_app_data_delta.csv. Batch 94 time: 0:02:28 (avg: 0:02:32, remaining: 4:34:14)\n",
      "Exported lines 9500-9599 to steam_app_data_delta.csv. Batch 95 time: 0:02:33 (avg: 0:02:32, remaining: 4:31:43)\n",
      "Exported lines 9600-9699 to steam_app_data_delta.csv. Batch 96 time: 0:02:32 (avg: 0:02:32, remaining: 4:29:10)\n",
      "Exported lines 9700-9799 to steam_app_data_delta.csv. Batch 97 time: 0:02:27 (avg: 0:02:32, remaining: 4:26:32)\n",
      "Exported lines 9800-9899 to steam_app_data_delta.csv. Batch 98 time: 0:02:29 (avg: 0:02:32, remaining: 4:23:56)\n",
      "No response, waiting 10 seconds...\n",
      "Retrying.\n",
      "Exported lines 9900-9999 to steam_app_data_delta.csv. Batch 99 time: 0:02:38 (avg: 0:02:32, remaining: 4:21:30)\n",
      "Exported lines 10000-10099 to steam_app_data_delta.csv. Batch 100 time: 0:02:26 (avg: 0:02:32, remaining: 4:18:52)\n",
      "No response, waiting 10 seconds...\n",
      "Retrying.\n",
      "Exported lines 10100-10199 to steam_app_data_delta.csv. Batch 101 time: 0:02:38 (avg: 0:02:32, remaining: 4:16:25)\n",
      "Exported lines 10200-10299 to steam_app_data_delta.csv. Batch 102 time: 0:02:26 (avg: 0:02:32, remaining: 4:13:46)\n",
      "No response, waiting 10 seconds...\n",
      "Retrying.\n",
      "Exported lines 10300-10399 to steam_app_data_delta.csv. Batch 103 time: 0:02:38 (avg: 0:02:32, remaining: 4:11:20)\n",
      "Exported lines 10400-10499 to steam_app_data_delta.csv. Batch 104 time: 0:02:28 (avg: 0:02:32, remaining: 4:08:43)\n",
      "No response, waiting 10 seconds...\n",
      "Retrying.\n",
      "Exported lines 10500-10599 to steam_app_data_delta.csv. Batch 105 time: 0:02:39 (avg: 0:02:32, remaining: 4:06:17)\n",
      "Exported lines 10600-10699 to steam_app_data_delta.csv. Batch 106 time: 0:02:29 (avg: 0:02:32, remaining: 4:03:41)\n",
      "No response, waiting 10 seconds...\n",
      "Retrying.\n",
      "Exported lines 10700-10799 to steam_app_data_delta.csv. Batch 107 time: 0:02:38 (avg: 0:02:32, remaining: 4:01:14)\n",
      "Exported lines 10800-10899 to steam_app_data_delta.csv. Batch 108 time: 0:02:27 (avg: 0:02:32, remaining: 3:58:37)\n",
      "No response, waiting 10 seconds...\n",
      "Retrying.\n",
      "Exported lines 10900-10999 to steam_app_data_delta.csv. Batch 109 time: 0:02:40 (avg: 0:02:32, remaining: 3:56:11)\n",
      "Exported lines 11000-11099 to steam_app_data_delta.csv. Batch 110 time: 0:02:28 (avg: 0:02:32, remaining: 3:53:35)\n",
      "No response, waiting 10 seconds...\n",
      "Retrying.\n",
      "Exported lines 11100-11199 to steam_app_data_delta.csv. Batch 111 time: 0:02:40 (avg: 0:02:32, remaining: 3:51:09)\n",
      "Exported lines 11200-11299 to steam_app_data_delta.csv. Batch 112 time: 0:02:28 (avg: 0:02:32, remaining: 3:48:33)\n",
      "Exported lines 11300-11399 to steam_app_data_delta.csv. Batch 113 time: 0:02:36 (avg: 0:02:32, remaining: 3:46:04)\n",
      "Exported lines 11400-11499 to steam_app_data_delta.csv. Batch 114 time: 0:02:30 (avg: 0:02:32, remaining: 3:43:30)\n",
      "Exported lines 11500-11599 to steam_app_data_delta.csv. Batch 115 time: 0:02:30 (avg: 0:02:32, remaining: 3:40:56)\n",
      "Exported lines 11600-11699 to steam_app_data_delta.csv. Batch 116 time: 0:02:30 (avg: 0:02:32, remaining: 3:38:22)\n",
      "Exported lines 11700-11799 to steam_app_data_delta.csv. Batch 117 time: 0:02:32 (avg: 0:02:32, remaining: 3:35:49)\n",
      "Exported lines 11800-11899 to steam_app_data_delta.csv. Batch 118 time: 0:02:26 (avg: 0:02:32, remaining: 3:33:12)\n",
      "No response, waiting 10 seconds...\n",
      "Retrying.\n",
      "Exported lines 11900-11999 to steam_app_data_delta.csv. Batch 119 time: 0:02:36 (avg: 0:02:32, remaining: 3:30:42)\n",
      "Exported lines 12000-12099 to steam_app_data_delta.csv. Batch 120 time: 0:02:28 (avg: 0:02:32, remaining: 3:28:07)\n",
      "No response, waiting 10 seconds...\n",
      "Retrying.\n",
      "Exported lines 12100-12199 to steam_app_data_delta.csv. Batch 121 time: 0:02:41 (avg: 0:02:32, remaining: 3:25:40)\n",
      "Exported lines 12200-12299 to steam_app_data_delta.csv. Batch 122 time: 0:02:28 (avg: 0:02:32, remaining: 3:23:05)\n",
      "No response, waiting 10 seconds...\n",
      "Retrying.\n",
      "Exported lines 12300-12399 to steam_app_data_delta.csv. Batch 123 time: 0:02:36 (avg: 0:02:32, remaining: 3:20:35)\n",
      "Exported lines 12400-12499 to steam_app_data_delta.csv. Batch 124 time: 0:02:26 (avg: 0:02:32, remaining: 3:17:59)\n"
     ]
    },
    {
     "name": "stdout",
     "output_type": "stream",
     "text": [
      "No response, waiting 10 seconds...\n",
      "Retrying.\n",
      "Exported lines 12500-12599 to steam_app_data_delta.csv. Batch 125 time: 0:02:40 (avg: 0:02:32, remaining: 3:15:31)\n",
      "Exported lines 12600-12699 to steam_app_data_delta.csv. Batch 126 time: 0:02:27 (avg: 0:02:32, remaining: 3:12:56)\n",
      "No response, waiting 10 seconds...\n",
      "Retrying.\n",
      "Exported lines 12700-12799 to steam_app_data_delta.csv. Batch 127 time: 0:02:40 (avg: 0:02:32, remaining: 3:10:28)\n",
      "Exported lines 12800-12899 to steam_app_data_delta.csv. Batch 128 time: 0:02:27 (avg: 0:02:32, remaining: 3:07:52)\n",
      "No response, waiting 10 seconds...\n",
      "Retrying.\n",
      "Exported lines 12900-12999 to steam_app_data_delta.csv. Batch 129 time: 0:02:38 (avg: 0:02:32, remaining: 3:05:23)\n",
      "Exported lines 13000-13099 to steam_app_data_delta.csv. Batch 130 time: 0:02:30 (avg: 0:02:32, remaining: 3:02:50)\n",
      "No response, waiting 10 seconds...\n",
      "Retrying.\n",
      "Exported lines 13100-13199 to steam_app_data_delta.csv. Batch 131 time: 0:02:37 (avg: 0:02:32, remaining: 3:00:20)\n",
      "Exported lines 13200-13299 to steam_app_data_delta.csv. Batch 132 time: 0:02:27 (avg: 0:02:32, remaining: 2:57:45)\n",
      "No response, waiting 10 seconds...\n",
      "Retrying.\n",
      "Exported lines 13300-13399 to steam_app_data_delta.csv. Batch 133 time: 0:02:39 (avg: 0:02:32, remaining: 2:55:16)\n",
      "Exported lines 13400-13499 to steam_app_data_delta.csv. Batch 134 time: 0:02:25 (avg: 0:02:32, remaining: 2:52:40)\n",
      "No response, waiting 10 seconds...\n",
      "Retrying.\n",
      "Exported lines 13500-13599 to steam_app_data_delta.csv. Batch 135 time: 0:02:40 (avg: 0:02:32, remaining: 2:50:11)\n",
      "Exported lines 13600-13699 to steam_app_data_delta.csv. Batch 136 time: 0:02:29 (avg: 0:02:32, remaining: 2:47:37)\n",
      "No response, waiting 10 seconds...\n",
      "Retrying.\n",
      "Exported lines 13700-13799 to steam_app_data_delta.csv. Batch 137 time: 0:02:40 (avg: 0:02:32, remaining: 2:45:08)\n",
      "Exported lines 13800-13899 to steam_app_data_delta.csv. Batch 138 time: 0:02:30 (avg: 0:02:32, remaining: 2:42:34)\n",
      "No response, waiting 10 seconds...\n",
      "Retrying.\n",
      "Exported lines 13900-13999 to steam_app_data_delta.csv. Batch 139 time: 0:02:38 (avg: 0:02:32, remaining: 2:40:05)\n",
      "Exported lines 14000-14099 to steam_app_data_delta.csv. Batch 140 time: 0:02:27 (avg: 0:02:32, remaining: 2:37:30)\n",
      "No response, waiting 10 seconds...\n",
      "Retrying.\n",
      "Exported lines 14100-14199 to steam_app_data_delta.csv. Batch 141 time: 0:02:38 (avg: 0:02:32, remaining: 2:35:00)\n",
      "Exported lines 14200-14299 to steam_app_data_delta.csv. Batch 142 time: 0:02:26 (avg: 0:02:32, remaining: 2:32:25)\n",
      "No response, waiting 10 seconds...\n",
      "Retrying.\n",
      "Exported lines 14300-14399 to steam_app_data_delta.csv. Batch 143 time: 0:02:39 (avg: 0:02:32, remaining: 2:29:55)\n",
      "Exported lines 14400-14499 to steam_app_data_delta.csv. Batch 144 time: 0:02:28 (avg: 0:02:32, remaining: 2:27:21)\n",
      "No response, waiting 10 seconds...\n",
      "Retrying.\n",
      "Exported lines 14500-14599 to steam_app_data_delta.csv. Batch 145 time: 0:02:37 (avg: 0:02:32, remaining: 2:24:50)\n",
      "Exported lines 14600-14699 to steam_app_data_delta.csv. Batch 146 time: 0:02:28 (avg: 0:02:32, remaining: 2:22:16)\n",
      "No response, waiting 10 seconds...\n",
      "Retrying.\n",
      "Exported lines 14700-14799 to steam_app_data_delta.csv. Batch 147 time: 0:02:40 (avg: 0:02:32, remaining: 2:19:46)\n",
      "Exported lines 14800-14899 to steam_app_data_delta.csv. Batch 148 time: 0:02:29 (avg: 0:02:32, remaining: 2:17:13)\n",
      "No response, waiting 10 seconds...\n",
      "Retrying.\n",
      "Exported lines 14900-14999 to steam_app_data_delta.csv. Batch 149 time: 0:02:39 (avg: 0:02:32, remaining: 2:14:42)\n",
      "Exported lines 15000-15099 to steam_app_data_delta.csv. Batch 150 time: 0:02:26 (avg: 0:02:32, remaining: 2:12:08)\n",
      "No response, waiting 10 seconds...\n",
      "Retrying.\n",
      "Exported lines 15100-15199 to steam_app_data_delta.csv. Batch 151 time: 0:02:39 (avg: 0:02:32, remaining: 2:09:37)\n",
      "Exported lines 15200-15299 to steam_app_data_delta.csv. Batch 152 time: 0:02:28 (avg: 0:02:32, remaining: 2:07:04)\n",
      "No response, waiting 10 seconds...\n",
      "Retrying.\n",
      "Exported lines 15300-15399 to steam_app_data_delta.csv. Batch 153 time: 0:02:36 (avg: 0:02:32, remaining: 2:04:32)\n",
      "Exported lines 15400-15499 to steam_app_data_delta.csv. Batch 154 time: 0:02:26 (avg: 0:02:32, remaining: 2:01:58)\n",
      "No response, waiting 10 seconds...\n",
      "Retrying.\n",
      "Exported lines 15500-15599 to steam_app_data_delta.csv. Batch 155 time: 0:02:37 (avg: 0:02:32, remaining: 1:59:27)\n",
      "Exported lines 15600-15699 to steam_app_data_delta.csv. Batch 156 time: 0:02:28 (avg: 0:02:32, remaining: 1:56:53)\n",
      "No response, waiting 10 seconds...\n",
      "Retrying.\n",
      "Exported lines 15700-15799 to steam_app_data_delta.csv. Batch 157 time: 0:02:38 (avg: 0:02:32, remaining: 1:54:22)\n",
      "Exported lines 15800-15899 to steam_app_data_delta.csv. Batch 158 time: 0:02:27 (avg: 0:02:32, remaining: 1:51:48)\n",
      "No response, waiting 10 seconds...\n",
      "Retrying.\n",
      "Exported lines 15900-15999 to steam_app_data_delta.csv. Batch 159 time: 0:02:37 (avg: 0:02:32, remaining: 1:49:17)\n",
      "Exported lines 16000-16099 to steam_app_data_delta.csv. Batch 160 time: 0:02:29 (avg: 0:02:32, remaining: 1:46:43)\n",
      "No response, waiting 10 seconds...\n",
      "Retrying.\n",
      "Exported lines 16100-16199 to steam_app_data_delta.csv. Batch 161 time: 0:02:40 (avg: 0:02:33, remaining: 1:44:13)\n",
      "Exported lines 16200-16299 to steam_app_data_delta.csv. Batch 162 time: 0:02:26 (avg: 0:02:32, remaining: 1:41:39)\n",
      "No response, waiting 10 seconds...\n",
      "Retrying.\n",
      "Exported lines 16300-16399 to steam_app_data_delta.csv. Batch 163 time: 0:02:40 (avg: 0:02:33, remaining: 1:39:08)\n",
      "Exported lines 16400-16499 to steam_app_data_delta.csv. Batch 164 time: 0:02:27 (avg: 0:02:32, remaining: 1:36:34)\n",
      "No response, waiting 10 seconds...\n",
      "Retrying.\n",
      "Exported lines 16500-16599 to steam_app_data_delta.csv. Batch 165 time: 0:02:38 (avg: 0:02:33, remaining: 1:34:03)\n",
      "Exported lines 16600-16699 to steam_app_data_delta.csv. Batch 166 time: 0:02:26 (avg: 0:02:32, remaining: 1:31:29)\n",
      "No response, waiting 10 seconds...\n",
      "Retrying.\n",
      "Exported lines 16700-16799 to steam_app_data_delta.csv. Batch 167 time: 0:02:39 (avg: 0:02:33, remaining: 1:28:58)\n",
      "Exported lines 16800-16899 to steam_app_data_delta.csv. Batch 168 time: 0:02:26 (avg: 0:02:32, remaining: 1:26:24)\n",
      "No response, waiting 10 seconds...\n",
      "Retrying.\n",
      "Exported lines 16900-16999 to steam_app_data_delta.csv. Batch 169 time: 0:02:37 (avg: 0:02:33, remaining: 1:23:53)\n",
      "Exported lines 17000-17099 to steam_app_data_delta.csv. Batch 170 time: 0:02:26 (avg: 0:02:32, remaining: 1:21:19)\n",
      "No response, waiting 10 seconds...\n",
      "Retrying.\n",
      "Exported lines 17100-17199 to steam_app_data_delta.csv. Batch 171 time: 0:02:38 (avg: 0:02:32, remaining: 1:18:47)\n",
      "Exported lines 17200-17299 to steam_app_data_delta.csv. Batch 172 time: 0:02:29 (avg: 0:02:32, remaining: 1:16:14)\n",
      "No response, waiting 10 seconds...\n",
      "Retrying.\n",
      "Exported lines 17300-17399 to steam_app_data_delta.csv. Batch 173 time: 0:02:40 (avg: 0:02:33, remaining: 1:13:43)\n",
      "Exported lines 17400-17499 to steam_app_data_delta.csv. Batch 174 time: 0:02:27 (avg: 0:02:32, remaining: 1:11:10)\n",
      "No response, waiting 10 seconds...\n",
      "Retrying.\n",
      "Exported lines 17500-17599 to steam_app_data_delta.csv. Batch 175 time: 0:02:40 (avg: 0:02:33, remaining: 1:08:38)\n",
      "Exported lines 17600-17699 to steam_app_data_delta.csv. Batch 176 time: 0:02:26 (avg: 0:02:32, remaining: 1:06:05)\n",
      "No response, waiting 10 seconds...\n",
      "Retrying.\n",
      "Exported lines 17700-17799 to steam_app_data_delta.csv. Batch 177 time: 0:02:38 (avg: 0:02:33, remaining: 1:03:33)\n",
      "Exported lines 17800-17899 to steam_app_data_delta.csv. Batch 178 time: 0:02:30 (avg: 0:02:33, remaining: 1:01:00)\n",
      "No response, waiting 10 seconds...\n",
      "Retrying.\n",
      "Exported lines 17900-17999 to steam_app_data_delta.csv. Batch 179 time: 0:02:38 (avg: 0:02:33, remaining: 0:58:28)\n",
      "Exported lines 18000-18099 to steam_app_data_delta.csv. Batch 180 time: 0:02:30 (avg: 0:02:33, remaining: 0:55:56)\n",
      "No response, waiting 10 seconds...\n",
      "Retrying.\n",
      "Exported lines 18100-18199 to steam_app_data_delta.csv. Batch 181 time: 0:02:38 (avg: 0:02:33, remaining: 0:53:24)\n",
      "Exported lines 18200-18299 to steam_app_data_delta.csv. Batch 182 time: 0:02:30 (avg: 0:02:33, remaining: 0:50:51)\n",
      "No response, waiting 10 seconds...\n",
      "Retrying.\n",
      "Exported lines 18300-18399 to steam_app_data_delta.csv. Batch 183 time: 0:02:39 (avg: 0:02:33, remaining: 0:48:19)\n",
      "Exported lines 18400-18499 to steam_app_data_delta.csv. Batch 184 time: 0:02:29 (avg: 0:02:33, remaining: 0:45:46)\n"
     ]
    },
    {
     "name": "stdout",
     "output_type": "stream",
     "text": [
      "No response, waiting 10 seconds...\n",
      "Retrying.\n",
      "Exported lines 18500-18599 to steam_app_data_delta.csv. Batch 185 time: 0:02:39 (avg: 0:02:33, remaining: 0:43:14)\n",
      "Exported lines 18600-18699 to steam_app_data_delta.csv. Batch 186 time: 0:02:29 (avg: 0:02:33, remaining: 0:40:41)\n",
      "No response, waiting 10 seconds...\n",
      "Retrying.\n",
      "Exported lines 18700-18799 to steam_app_data_delta.csv. Batch 187 time: 0:02:39 (avg: 0:02:33, remaining: 0:38:09)\n",
      "Exported lines 18800-18899 to steam_app_data_delta.csv. Batch 188 time: 0:02:29 (avg: 0:02:33, remaining: 0:35:36)\n",
      "No response, waiting 10 seconds...\n",
      "Retrying.\n",
      "Exported lines 18900-18999 to steam_app_data_delta.csv. Batch 189 time: 0:02:36 (avg: 0:02:33, remaining: 0:33:04)\n",
      "Exported lines 19000-19099 to steam_app_data_delta.csv. Batch 190 time: 0:02:26 (avg: 0:02:33, remaining: 0:30:31)\n",
      "No response, waiting 10 seconds...\n",
      "Retrying.\n",
      "Exported lines 19100-19199 to steam_app_data_delta.csv. Batch 191 time: 0:02:38 (avg: 0:02:33, remaining: 0:27:59)\n",
      "Exported lines 19200-19299 to steam_app_data_delta.csv. Batch 192 time: 0:02:28 (avg: 0:02:33, remaining: 0:25:26)\n",
      "No response, waiting 10 seconds...\n",
      "Retrying.\n",
      "Exported lines 19300-19399 to steam_app_data_delta.csv. Batch 193 time: 0:02:39 (avg: 0:02:33, remaining: 0:22:53)\n",
      "Exported lines 19400-19499 to steam_app_data_delta.csv. Batch 194 time: 0:02:31 (avg: 0:02:33, remaining: 0:20:21)\n",
      "No response, waiting 10 seconds...\n",
      "Retrying.\n",
      "Exported lines 19500-19599 to steam_app_data_delta.csv. Batch 195 time: 0:02:37 (avg: 0:02:33, remaining: 0:17:48)\n",
      "Exported lines 19600-19699 to steam_app_data_delta.csv. Batch 196 time: 0:02:29 (avg: 0:02:33, remaining: 0:15:16)\n",
      "No response, waiting 10 seconds...\n",
      "Retrying.\n",
      "Exported lines 19700-19799 to steam_app_data_delta.csv. Batch 197 time: 0:02:37 (avg: 0:02:33, remaining: 0:12:43)\n",
      "Exported lines 19800-19899 to steam_app_data_delta.csv. Batch 198 time: 0:02:29 (avg: 0:02:33, remaining: 0:10:10)\n",
      "Exported lines 19900-19999 to steam_app_data_delta.csv. Batch 199 time: 0:02:46 (avg: 0:02:33, remaining: 0:07:38)\n",
      "Exported lines 20000-20099 to steam_app_data_delta.csv. Batch 200 time: 0:02:28 (avg: 0:02:33, remaining: 0:05:05)\n",
      "Exported lines 20100-20199 to steam_app_data_delta.csv. Batch 201 time: 0:02:34 (avg: 0:02:33, remaining: 0:02:33)\n",
      "Exported lines 20200-20247 to steam_app_data_delta.csv. Batch 202 time: 0:01:12 (avg: 0:02:32, remaining: 0:00:00)\n",
      "\n",
      "Processing batches complete. 20247 apps written\n"
     ]
    },
    {
     "ename": "TypeError",
     "evalue": "read_csv() got an unexpected keyword argument 'index'",
     "output_type": "error",
     "traceback": [
      "\u001b[1;31m---------------------------------------------------------------------------\u001b[0m",
      "\u001b[1;31mTypeError\u001b[0m                                 Traceback (most recent call last)",
      "\u001b[1;32m<ipython-input-43-725d458584ef>\u001b[0m in \u001b[0;36m<module>\u001b[1;34m\u001b[0m\n\u001b[0;32m     17\u001b[0m \u001b[1;33m\u001b[0m\u001b[0m\n\u001b[0;32m     18\u001b[0m \u001b[1;32mtry\u001b[0m\u001b[1;33m:\u001b[0m\u001b[1;33m\u001b[0m\u001b[1;33m\u001b[0m\u001b[0m\n\u001b[1;32m---> 19\u001b[1;33m     \u001b[0moldlist\u001b[0m \u001b[1;33m=\u001b[0m \u001b[0mpd\u001b[0m\u001b[1;33m.\u001b[0m\u001b[0mread_csv\u001b[0m\u001b[1;33m(\u001b[0m\u001b[1;34m'../data/download/steam_app_data.csv'\u001b[0m\u001b[1;33m,\u001b[0m \u001b[0mindex\u001b[0m\u001b[1;33m=\u001b[0m\u001b[1;32mFalse\u001b[0m\u001b[1;33m)\u001b[0m\u001b[1;33m\u001b[0m\u001b[1;33m\u001b[0m\u001b[0m\n\u001b[0m\u001b[0;32m     20\u001b[0m     \u001b[1;31m# We change the old file to backup, so remove any backup named this way before...\u001b[0m\u001b[1;33m\u001b[0m\u001b[1;33m\u001b[0m\u001b[1;33m\u001b[0m\u001b[0m\n\u001b[0;32m     21\u001b[0m     \u001b[0mos\u001b[0m\u001b[1;33m.\u001b[0m\u001b[0mrename\u001b[0m\u001b[1;33m(\u001b[0m\u001b[1;34m'../data/download/steam_app_data.csv'\u001b[0m\u001b[1;33m,\u001b[0m \u001b[1;34m'../data/download/steam_app_data_backup.csv'\u001b[0m\u001b[1;33m)\u001b[0m\u001b[1;33m\u001b[0m\u001b[1;33m\u001b[0m\u001b[0m\n",
      "\u001b[1;31mTypeError\u001b[0m: read_csv() got an unexpected keyword argument 'index'"
     ]
    }
   ],
   "source": [
    "# I separated the long process to be able to debug it better.\n",
    "# Set end and chunksize for demonstration - remove to run through entire app list\n",
    "# Here by default we passed \"app_list\" that contained all the information and saved it, now we will modify it a bit\n",
    "# And add pre-processing and post-processing\n",
    "print(\"Adding \"+str(len(steam_ids))+\" new ids.\\n\")\n",
    "process_batches(\n",
    "    parser=parse_steam_request,\n",
    "    app_list=steam_ids,\n",
    "    download_path=download_path,\n",
    "    data_filename=steam_app_data_delta,\n",
    "    index_filename=steam_index,\n",
    "    columns=steam_columns,\n",
    "    begin=index,\n",
    "    #end=10,\n",
    "    #batchsize=5\n",
    ")\n",
    "\n",
    "try:\n",
    "    oldlist = pd.read_csv('../data/download/steam_app_data.csv')\n",
    "    # We change the old file to backup, so remove any backup named this way before...\n",
    "    os.rename('../data/download/steam_app_data.csv', '../data/download/steam_app_data_backup.csv')\n",
    "    newlist = pd.read_csv('../data/download/steam_app_data_delta.csv')\n",
    "    oldlist = oldlist.append(newlist, ignore_index=True)\n",
    "    oldlist.to_csv('../data/download/steam_app_data.csv', index=False)\n",
    "except FileNotFoundError:\n",
    "    os.rename('../data/download/steam_app_data_delta.csv', '../data/download/steam_app_data.csv')"
   ]
  },
  {
   "cell_type": "markdown",
   "metadata": {},
   "source": [
    "Let's ensure we have no duplicate ids and that we got them all!"
   ]
  },
  {
   "cell_type": "code",
   "execution_count": null,
   "metadata": {},
   "outputs": [],
   "source": [
    "steam_app_data = pd.read_csv('../data/download/steam_app_data.csv')"
   ]
  },
  {
   "cell_type": "code",
   "execution_count": 48,
   "metadata": {},
   "outputs": [
    {
     "data": {
      "text/plain": [
       "2957"
      ]
     },
     "execution_count": 48,
     "metadata": {},
     "output_type": "execute_result"
    }
   ],
   "source": [
    "steam_app_data.duplicated(subset=\"steam_appid\").sum()"
   ]
  },
  {
   "cell_type": "markdown",
   "metadata": {},
   "source": [
    "We got some duplicates here. Let's compare that to the full set of ids."
   ]
  },
  {
   "cell_type": "code",
   "execution_count": 50,
   "metadata": {},
   "outputs": [
    {
     "data": {
      "text/plain": [
       "0"
      ]
     },
     "execution_count": 50,
     "metadata": {},
     "output_type": "execute_result"
    }
   ],
   "source": [
    "full_steam_ids.duplicated(subset=\"appid\").sum()"
   ]
  },
  {
   "cell_type": "markdown",
   "metadata": {},
   "source": [
    "Even though we cleaned before, it is possible we got some ids twice. Let's compare the size."
   ]
  },
  {
   "cell_type": "code",
   "execution_count": 54,
   "metadata": {},
   "outputs": [
    {
     "data": {
      "text/plain": [
       "5886"
      ]
     },
     "execution_count": 54,
     "metadata": {},
     "output_type": "execute_result"
    }
   ],
   "source": [
    "len(steam_app_data)-len(full_steam_ids)"
   ]
  },
  {
   "cell_type": "markdown",
   "metadata": {},
   "source": [
    "Since we were using old data, it seems like ids that are no longer available are still there, along with a few duplicates. Let's run again the function which would get new ids, just to make sure."
   ]
  },
  {
   "cell_type": "code",
   "execution_count": 55,
   "metadata": {},
   "outputs": [],
   "source": [
    "diff_ids = get_update_ids(full_steam_ids, steam_app_data)"
   ]
  },
  {
   "cell_type": "code",
   "execution_count": 56,
   "metadata": {},
   "outputs": [
    {
     "data": {
      "text/plain": [
       "14"
      ]
     },
     "execution_count": 56,
     "metadata": {},
     "output_type": "execute_result"
    }
   ],
   "source": [
    "len(diff_ids)"
   ]
  },
  {
   "cell_type": "markdown",
   "metadata": {},
   "source": [
    "There are only 14 new ids. Taking into account that around a hundred apps get uploaded to Steam everyday, this makes sense, so we do not need to download anything new for the moment, just cleaning.\n",
    "\n",
    "Well, from Steam... now we have to make sure we got most of these IDs from SteamSpy as well.\n",
    "\n",
    "Let's do a bit of pre-cleaning, to ensure we download only the ids we need from Steam Spy.\n",
    "\n",
    "We are going to consider valid apps those that at least have a name for the moment. Then delete the remaining duplicates."
   ]
  },
  {
   "cell_type": "code",
   "execution_count": 63,
   "metadata": {},
   "outputs": [],
   "source": [
    "steam_app_data = steam_app_data[~steam_app_data[\"name\"].isna()]\n",
    "steam_app_data = steam_app_data.drop_duplicates(subset=\"steam_appid\", keep=\"last\")\n",
    "steam_app_data.to_csv(\"../data/download/steam_app_data.csv\", index=False)"
   ]
  },
  {
   "cell_type": "code",
   "execution_count": 64,
   "metadata": {
    "id": "HEyFNt-aXTI8",
    "outputId": "2905c74e-5f12-463f-bd46-05f0dba8ce54",
    "scrolled": true
   },
   "outputs": [
    {
     "name": "stdout",
     "output_type": "stream",
     "text": [
      "<class 'pandas.core.frame.DataFrame'>\n",
      "Int64Index: 66803 entries, 0 to 69853\n",
      "Data columns (total 39 columns):\n",
      " #   Column                   Non-Null Count  Dtype  \n",
      "---  ------                   --------------  -----  \n",
      " 0   type                     66655 non-null  object \n",
      " 1   name                     66803 non-null  object \n",
      " 2   steam_appid              66803 non-null  int64  \n",
      " 3   required_age             66655 non-null  object \n",
      " 4   is_free                  66655 non-null  object \n",
      " 5   controller_support       14422 non-null  object \n",
      " 6   dlc                      9342 non-null   object \n",
      " 7   detailed_description     66587 non-null  object \n",
      " 8   about_the_game           66585 non-null  object \n",
      " 9   short_description        66593 non-null  object \n",
      " 10  fullgame                 0 non-null      float64\n",
      " 11  supported_languages      66599 non-null  object \n",
      " 12  header_image             66655 non-null  object \n",
      " 13  website                  36119 non-null  object \n",
      " 14  pc_requirements          66655 non-null  object \n",
      " 15  mac_requirements         66655 non-null  object \n",
      " 16  linux_requirements       66655 non-null  object \n",
      " 17  legal_notice             19502 non-null  object \n",
      " 18  drm_notice               278 non-null    object \n",
      " 19  ext_user_account_notice  1124 non-null   object \n",
      " 20  developers               66495 non-null  object \n",
      " 21  publishers               66655 non-null  object \n",
      " 22  demos                    6009 non-null   object \n",
      " 23  price_overview           47350 non-null  object \n",
      " 24  packages                 47963 non-null  object \n",
      " 25  package_groups           66655 non-null  object \n",
      " 26  platforms                66655 non-null  object \n",
      " 27  metacritic               3726 non-null   object \n",
      " 28  reviews                  8872 non-null   object \n",
      " 29  categories               65699 non-null  object \n",
      " 30  genres                   66526 non-null  object \n",
      " 31  screenshots              66533 non-null  object \n",
      " 32  movies                   61673 non-null  object \n",
      " 33  recommendations          11674 non-null  object \n",
      " 34  achievements             30294 non-null  object \n",
      " 35  release_date             66655 non-null  object \n",
      " 36  support_info             66655 non-null  object \n",
      " 37  background               66547 non-null  object \n",
      " 38  content_descriptors      66655 non-null  object \n",
      "dtypes: float64(1), int64(1), object(37)\n",
      "memory usage: 20.4+ MB\n"
     ]
    }
   ],
   "source": [
    "# inspect downloaded data\n",
    "steam_app_data.info()"
   ]
  },
  {
   "cell_type": "markdown",
   "metadata": {
    "id": "tfR35UFwXTI5"
   },
   "source": [
    "## Steam Spy API\n",
    "\n",
    "APPs on steam have an unique ID. The requests to Steam API (which has more information than Steam Spy) have to be made for a specific ID. This means we have to get first a list of ids.\n",
    "\n",
    "We can do this in several ways, but this is what I decided to follow:\n",
    "\n",
    "* Using Steam Spy API (see https://steamspy.com/api.php) to get the list of IDs and also the metadata from Steam Spy (at the same time). Alternatively, we could use Steam API to get a list of apps, then filter them (see https://api.steampowered.com/ISteamApps/GetAppList/v2/? or https://steamapi.xpaw.me/#IStoreService/GetAppInfo). Unfortunately, using this method got me \n",
    "\n",
    "* Then using Steam API to loop for each ID from the list and getting the complete info.\n",
    "\n",
    "We are going to use this request: https://steamspy.com/api.php?request=all&page=1 - return apps 1,000-1,999 of all apps."
   ]
  },
  {
   "cell_type": "code",
   "execution_count": 14,
   "metadata": {},
   "outputs": [
    {
     "name": "stdout",
     "output_type": "stream",
     "text": [
      "Starting at index 0:\n",
      "\n",
      "Current index: 184\r"
     ]
    },
    {
     "ename": "NameError",
     "evalue": "name 'SSLError' is not defined",
     "output_type": "error",
     "traceback": [
      "\u001b[1;31m---------------------------------------------------------------------------\u001b[0m",
      "\u001b[1;31mKeyboardInterrupt\u001b[0m                         Traceback (most recent call last)",
      "\u001b[1;32m<ipython-input-3-97d12df6ed17>\u001b[0m in \u001b[0;36mget_request\u001b[1;34m(url, parameters, steamspy)\u001b[0m\n\u001b[0;32m     15\u001b[0m     \u001b[1;32mtry\u001b[0m\u001b[1;33m:\u001b[0m\u001b[1;33m\u001b[0m\u001b[1;33m\u001b[0m\u001b[0m\n\u001b[1;32m---> 16\u001b[1;33m         \u001b[0mresponse\u001b[0m \u001b[1;33m=\u001b[0m \u001b[0mrequests\u001b[0m\u001b[1;33m.\u001b[0m\u001b[0mget\u001b[0m\u001b[1;33m(\u001b[0m\u001b[0murl\u001b[0m\u001b[1;33m=\u001b[0m\u001b[0murl\u001b[0m\u001b[1;33m,\u001b[0m \u001b[0mparams\u001b[0m\u001b[1;33m=\u001b[0m\u001b[0mparameters\u001b[0m\u001b[1;33m)\u001b[0m\u001b[1;33m\u001b[0m\u001b[1;33m\u001b[0m\u001b[0m\n\u001b[0m\u001b[0;32m     17\u001b[0m     \u001b[1;32mexcept\u001b[0m \u001b[0mSSLError\u001b[0m \u001b[1;32mas\u001b[0m \u001b[0ms\u001b[0m\u001b[1;33m:\u001b[0m\u001b[1;33m\u001b[0m\u001b[1;33m\u001b[0m\u001b[0m\n",
      "\u001b[1;32mG:\\WPy64-3870\\python-3.8.7.amd64\\lib\\site-packages\\requests\\api.py\u001b[0m in \u001b[0;36mget\u001b[1;34m(url, params, **kwargs)\u001b[0m\n\u001b[0;32m     75\u001b[0m     \u001b[0mkwargs\u001b[0m\u001b[1;33m.\u001b[0m\u001b[0msetdefault\u001b[0m\u001b[1;33m(\u001b[0m\u001b[1;34m'allow_redirects'\u001b[0m\u001b[1;33m,\u001b[0m \u001b[1;32mTrue\u001b[0m\u001b[1;33m)\u001b[0m\u001b[1;33m\u001b[0m\u001b[1;33m\u001b[0m\u001b[0m\n\u001b[1;32m---> 76\u001b[1;33m     \u001b[1;32mreturn\u001b[0m \u001b[0mrequest\u001b[0m\u001b[1;33m(\u001b[0m\u001b[1;34m'get'\u001b[0m\u001b[1;33m,\u001b[0m \u001b[0murl\u001b[0m\u001b[1;33m,\u001b[0m \u001b[0mparams\u001b[0m\u001b[1;33m=\u001b[0m\u001b[0mparams\u001b[0m\u001b[1;33m,\u001b[0m \u001b[1;33m**\u001b[0m\u001b[0mkwargs\u001b[0m\u001b[1;33m)\u001b[0m\u001b[1;33m\u001b[0m\u001b[1;33m\u001b[0m\u001b[0m\n\u001b[0m\u001b[0;32m     77\u001b[0m \u001b[1;33m\u001b[0m\u001b[0m\n",
      "\u001b[1;32mG:\\WPy64-3870\\python-3.8.7.amd64\\lib\\site-packages\\requests\\api.py\u001b[0m in \u001b[0;36mrequest\u001b[1;34m(method, url, **kwargs)\u001b[0m\n\u001b[0;32m     60\u001b[0m     \u001b[1;32mwith\u001b[0m \u001b[0msessions\u001b[0m\u001b[1;33m.\u001b[0m\u001b[0mSession\u001b[0m\u001b[1;33m(\u001b[0m\u001b[1;33m)\u001b[0m \u001b[1;32mas\u001b[0m \u001b[0msession\u001b[0m\u001b[1;33m:\u001b[0m\u001b[1;33m\u001b[0m\u001b[1;33m\u001b[0m\u001b[0m\n\u001b[1;32m---> 61\u001b[1;33m         \u001b[1;32mreturn\u001b[0m \u001b[0msession\u001b[0m\u001b[1;33m.\u001b[0m\u001b[0mrequest\u001b[0m\u001b[1;33m(\u001b[0m\u001b[0mmethod\u001b[0m\u001b[1;33m=\u001b[0m\u001b[0mmethod\u001b[0m\u001b[1;33m,\u001b[0m \u001b[0murl\u001b[0m\u001b[1;33m=\u001b[0m\u001b[0murl\u001b[0m\u001b[1;33m,\u001b[0m \u001b[1;33m**\u001b[0m\u001b[0mkwargs\u001b[0m\u001b[1;33m)\u001b[0m\u001b[1;33m\u001b[0m\u001b[1;33m\u001b[0m\u001b[0m\n\u001b[0m\u001b[0;32m     62\u001b[0m \u001b[1;33m\u001b[0m\u001b[0m\n",
      "\u001b[1;32mG:\\WPy64-3870\\python-3.8.7.amd64\\lib\\site-packages\\requests\\sessions.py\u001b[0m in \u001b[0;36mrequest\u001b[1;34m(self, method, url, params, data, headers, cookies, files, auth, timeout, allow_redirects, proxies, hooks, stream, verify, cert, json)\u001b[0m\n\u001b[0;32m    541\u001b[0m         \u001b[0msend_kwargs\u001b[0m\u001b[1;33m.\u001b[0m\u001b[0mupdate\u001b[0m\u001b[1;33m(\u001b[0m\u001b[0msettings\u001b[0m\u001b[1;33m)\u001b[0m\u001b[1;33m\u001b[0m\u001b[1;33m\u001b[0m\u001b[0m\n\u001b[1;32m--> 542\u001b[1;33m         \u001b[0mresp\u001b[0m \u001b[1;33m=\u001b[0m \u001b[0mself\u001b[0m\u001b[1;33m.\u001b[0m\u001b[0msend\u001b[0m\u001b[1;33m(\u001b[0m\u001b[0mprep\u001b[0m\u001b[1;33m,\u001b[0m \u001b[1;33m**\u001b[0m\u001b[0msend_kwargs\u001b[0m\u001b[1;33m)\u001b[0m\u001b[1;33m\u001b[0m\u001b[1;33m\u001b[0m\u001b[0m\n\u001b[0m\u001b[0;32m    543\u001b[0m \u001b[1;33m\u001b[0m\u001b[0m\n",
      "\u001b[1;32mG:\\WPy64-3870\\python-3.8.7.amd64\\lib\\site-packages\\requests\\sessions.py\u001b[0m in \u001b[0;36msend\u001b[1;34m(self, request, **kwargs)\u001b[0m\n\u001b[0;32m    654\u001b[0m         \u001b[1;31m# Send the request\u001b[0m\u001b[1;33m\u001b[0m\u001b[1;33m\u001b[0m\u001b[1;33m\u001b[0m\u001b[0m\n\u001b[1;32m--> 655\u001b[1;33m         \u001b[0mr\u001b[0m \u001b[1;33m=\u001b[0m \u001b[0madapter\u001b[0m\u001b[1;33m.\u001b[0m\u001b[0msend\u001b[0m\u001b[1;33m(\u001b[0m\u001b[0mrequest\u001b[0m\u001b[1;33m,\u001b[0m \u001b[1;33m**\u001b[0m\u001b[0mkwargs\u001b[0m\u001b[1;33m)\u001b[0m\u001b[1;33m\u001b[0m\u001b[1;33m\u001b[0m\u001b[0m\n\u001b[0m\u001b[0;32m    656\u001b[0m \u001b[1;33m\u001b[0m\u001b[0m\n",
      "\u001b[1;32mG:\\WPy64-3870\\python-3.8.7.amd64\\lib\\site-packages\\requests\\adapters.py\u001b[0m in \u001b[0;36msend\u001b[1;34m(self, request, stream, timeout, verify, cert, proxies)\u001b[0m\n\u001b[0;32m    438\u001b[0m             \u001b[1;32mif\u001b[0m \u001b[1;32mnot\u001b[0m \u001b[0mchunked\u001b[0m\u001b[1;33m:\u001b[0m\u001b[1;33m\u001b[0m\u001b[1;33m\u001b[0m\u001b[0m\n\u001b[1;32m--> 439\u001b[1;33m                 resp = conn.urlopen(\n\u001b[0m\u001b[0;32m    440\u001b[0m                     \u001b[0mmethod\u001b[0m\u001b[1;33m=\u001b[0m\u001b[0mrequest\u001b[0m\u001b[1;33m.\u001b[0m\u001b[0mmethod\u001b[0m\u001b[1;33m,\u001b[0m\u001b[1;33m\u001b[0m\u001b[1;33m\u001b[0m\u001b[0m\n",
      "\u001b[1;32mG:\\WPy64-3870\\python-3.8.7.amd64\\lib\\site-packages\\urllib3\\connectionpool.py\u001b[0m in \u001b[0;36murlopen\u001b[1;34m(self, method, url, body, headers, retries, redirect, assert_same_host, timeout, pool_timeout, release_conn, chunked, body_pos, **response_kw)\u001b[0m\n\u001b[0;32m    698\u001b[0m             \u001b[1;31m# Make the request on the httplib connection object.\u001b[0m\u001b[1;33m\u001b[0m\u001b[1;33m\u001b[0m\u001b[1;33m\u001b[0m\u001b[0m\n\u001b[1;32m--> 699\u001b[1;33m             httplib_response = self._make_request(\n\u001b[0m\u001b[0;32m    700\u001b[0m                 \u001b[0mconn\u001b[0m\u001b[1;33m,\u001b[0m\u001b[1;33m\u001b[0m\u001b[1;33m\u001b[0m\u001b[0m\n",
      "\u001b[1;32mG:\\WPy64-3870\\python-3.8.7.amd64\\lib\\site-packages\\urllib3\\connectionpool.py\u001b[0m in \u001b[0;36m_make_request\u001b[1;34m(self, conn, method, url, timeout, chunked, **httplib_request_kw)\u001b[0m\n\u001b[0;32m    444\u001b[0m                     \u001b[1;31m# Otherwise it looks like a bug in the code.\u001b[0m\u001b[1;33m\u001b[0m\u001b[1;33m\u001b[0m\u001b[1;33m\u001b[0m\u001b[0m\n\u001b[1;32m--> 445\u001b[1;33m                     \u001b[0msix\u001b[0m\u001b[1;33m.\u001b[0m\u001b[0mraise_from\u001b[0m\u001b[1;33m(\u001b[0m\u001b[0me\u001b[0m\u001b[1;33m,\u001b[0m \u001b[1;32mNone\u001b[0m\u001b[1;33m)\u001b[0m\u001b[1;33m\u001b[0m\u001b[1;33m\u001b[0m\u001b[0m\n\u001b[0m\u001b[0;32m    446\u001b[0m         \u001b[1;32mexcept\u001b[0m \u001b[1;33m(\u001b[0m\u001b[0mSocketTimeout\u001b[0m\u001b[1;33m,\u001b[0m \u001b[0mBaseSSLError\u001b[0m\u001b[1;33m,\u001b[0m \u001b[0mSocketError\u001b[0m\u001b[1;33m)\u001b[0m \u001b[1;32mas\u001b[0m \u001b[0me\u001b[0m\u001b[1;33m:\u001b[0m\u001b[1;33m\u001b[0m\u001b[1;33m\u001b[0m\u001b[0m\n",
      "\u001b[1;32mG:\\WPy64-3870\\python-3.8.7.amd64\\lib\\site-packages\\urllib3\\packages\\six.py\u001b[0m in \u001b[0;36mraise_from\u001b[1;34m(value, from_value)\u001b[0m\n",
      "\u001b[1;32mG:\\WPy64-3870\\python-3.8.7.amd64\\lib\\site-packages\\urllib3\\connectionpool.py\u001b[0m in \u001b[0;36m_make_request\u001b[1;34m(self, conn, method, url, timeout, chunked, **httplib_request_kw)\u001b[0m\n\u001b[0;32m    439\u001b[0m                 \u001b[1;32mtry\u001b[0m\u001b[1;33m:\u001b[0m\u001b[1;33m\u001b[0m\u001b[1;33m\u001b[0m\u001b[0m\n\u001b[1;32m--> 440\u001b[1;33m                     \u001b[0mhttplib_response\u001b[0m \u001b[1;33m=\u001b[0m \u001b[0mconn\u001b[0m\u001b[1;33m.\u001b[0m\u001b[0mgetresponse\u001b[0m\u001b[1;33m(\u001b[0m\u001b[1;33m)\u001b[0m\u001b[1;33m\u001b[0m\u001b[1;33m\u001b[0m\u001b[0m\n\u001b[0m\u001b[0;32m    441\u001b[0m                 \u001b[1;32mexcept\u001b[0m \u001b[0mBaseException\u001b[0m \u001b[1;32mas\u001b[0m \u001b[0me\u001b[0m\u001b[1;33m:\u001b[0m\u001b[1;33m\u001b[0m\u001b[1;33m\u001b[0m\u001b[0m\n",
      "\u001b[1;32mG:\\WPy64-3870\\python-3.8.7.amd64\\lib\\http\\client.py\u001b[0m in \u001b[0;36mgetresponse\u001b[1;34m(self)\u001b[0m\n\u001b[0;32m   1346\u001b[0m             \u001b[1;32mtry\u001b[0m\u001b[1;33m:\u001b[0m\u001b[1;33m\u001b[0m\u001b[1;33m\u001b[0m\u001b[0m\n\u001b[1;32m-> 1347\u001b[1;33m                 \u001b[0mresponse\u001b[0m\u001b[1;33m.\u001b[0m\u001b[0mbegin\u001b[0m\u001b[1;33m(\u001b[0m\u001b[1;33m)\u001b[0m\u001b[1;33m\u001b[0m\u001b[1;33m\u001b[0m\u001b[0m\n\u001b[0m\u001b[0;32m   1348\u001b[0m             \u001b[1;32mexcept\u001b[0m \u001b[0mConnectionError\u001b[0m\u001b[1;33m:\u001b[0m\u001b[1;33m\u001b[0m\u001b[1;33m\u001b[0m\u001b[0m\n",
      "\u001b[1;32mG:\\WPy64-3870\\python-3.8.7.amd64\\lib\\http\\client.py\u001b[0m in \u001b[0;36mbegin\u001b[1;34m(self)\u001b[0m\n\u001b[0;32m    306\u001b[0m         \u001b[1;32mwhile\u001b[0m \u001b[1;32mTrue\u001b[0m\u001b[1;33m:\u001b[0m\u001b[1;33m\u001b[0m\u001b[1;33m\u001b[0m\u001b[0m\n\u001b[1;32m--> 307\u001b[1;33m             \u001b[0mversion\u001b[0m\u001b[1;33m,\u001b[0m \u001b[0mstatus\u001b[0m\u001b[1;33m,\u001b[0m \u001b[0mreason\u001b[0m \u001b[1;33m=\u001b[0m \u001b[0mself\u001b[0m\u001b[1;33m.\u001b[0m\u001b[0m_read_status\u001b[0m\u001b[1;33m(\u001b[0m\u001b[1;33m)\u001b[0m\u001b[1;33m\u001b[0m\u001b[1;33m\u001b[0m\u001b[0m\n\u001b[0m\u001b[0;32m    308\u001b[0m             \u001b[1;32mif\u001b[0m \u001b[0mstatus\u001b[0m \u001b[1;33m!=\u001b[0m \u001b[0mCONTINUE\u001b[0m\u001b[1;33m:\u001b[0m\u001b[1;33m\u001b[0m\u001b[1;33m\u001b[0m\u001b[0m\n",
      "\u001b[1;32mG:\\WPy64-3870\\python-3.8.7.amd64\\lib\\http\\client.py\u001b[0m in \u001b[0;36m_read_status\u001b[1;34m(self)\u001b[0m\n\u001b[0;32m    267\u001b[0m     \u001b[1;32mdef\u001b[0m \u001b[0m_read_status\u001b[0m\u001b[1;33m(\u001b[0m\u001b[0mself\u001b[0m\u001b[1;33m)\u001b[0m\u001b[1;33m:\u001b[0m\u001b[1;33m\u001b[0m\u001b[1;33m\u001b[0m\u001b[0m\n\u001b[1;32m--> 268\u001b[1;33m         \u001b[0mline\u001b[0m \u001b[1;33m=\u001b[0m \u001b[0mstr\u001b[0m\u001b[1;33m(\u001b[0m\u001b[0mself\u001b[0m\u001b[1;33m.\u001b[0m\u001b[0mfp\u001b[0m\u001b[1;33m.\u001b[0m\u001b[0mreadline\u001b[0m\u001b[1;33m(\u001b[0m\u001b[0m_MAXLINE\u001b[0m \u001b[1;33m+\u001b[0m \u001b[1;36m1\u001b[0m\u001b[1;33m)\u001b[0m\u001b[1;33m,\u001b[0m \u001b[1;34m\"iso-8859-1\"\u001b[0m\u001b[1;33m)\u001b[0m\u001b[1;33m\u001b[0m\u001b[1;33m\u001b[0m\u001b[0m\n\u001b[0m\u001b[0;32m    269\u001b[0m         \u001b[1;32mif\u001b[0m \u001b[0mlen\u001b[0m\u001b[1;33m(\u001b[0m\u001b[0mline\u001b[0m\u001b[1;33m)\u001b[0m \u001b[1;33m>\u001b[0m \u001b[0m_MAXLINE\u001b[0m\u001b[1;33m:\u001b[0m\u001b[1;33m\u001b[0m\u001b[1;33m\u001b[0m\u001b[0m\n",
      "\u001b[1;32mG:\\WPy64-3870\\python-3.8.7.amd64\\lib\\socket.py\u001b[0m in \u001b[0;36mreadinto\u001b[1;34m(self, b)\u001b[0m\n\u001b[0;32m    668\u001b[0m             \u001b[1;32mtry\u001b[0m\u001b[1;33m:\u001b[0m\u001b[1;33m\u001b[0m\u001b[1;33m\u001b[0m\u001b[0m\n\u001b[1;32m--> 669\u001b[1;33m                 \u001b[1;32mreturn\u001b[0m \u001b[0mself\u001b[0m\u001b[1;33m.\u001b[0m\u001b[0m_sock\u001b[0m\u001b[1;33m.\u001b[0m\u001b[0mrecv_into\u001b[0m\u001b[1;33m(\u001b[0m\u001b[0mb\u001b[0m\u001b[1;33m)\u001b[0m\u001b[1;33m\u001b[0m\u001b[1;33m\u001b[0m\u001b[0m\n\u001b[0m\u001b[0;32m    670\u001b[0m             \u001b[1;32mexcept\u001b[0m \u001b[0mtimeout\u001b[0m\u001b[1;33m:\u001b[0m\u001b[1;33m\u001b[0m\u001b[1;33m\u001b[0m\u001b[0m\n",
      "\u001b[1;32mG:\\WPy64-3870\\python-3.8.7.amd64\\lib\\ssl.py\u001b[0m in \u001b[0;36mrecv_into\u001b[1;34m(self, buffer, nbytes, flags)\u001b[0m\n\u001b[0;32m   1240\u001b[0m                   self.__class__)\n\u001b[1;32m-> 1241\u001b[1;33m             \u001b[1;32mreturn\u001b[0m \u001b[0mself\u001b[0m\u001b[1;33m.\u001b[0m\u001b[0mread\u001b[0m\u001b[1;33m(\u001b[0m\u001b[0mnbytes\u001b[0m\u001b[1;33m,\u001b[0m \u001b[0mbuffer\u001b[0m\u001b[1;33m)\u001b[0m\u001b[1;33m\u001b[0m\u001b[1;33m\u001b[0m\u001b[0m\n\u001b[0m\u001b[0;32m   1242\u001b[0m         \u001b[1;32melse\u001b[0m\u001b[1;33m:\u001b[0m\u001b[1;33m\u001b[0m\u001b[1;33m\u001b[0m\u001b[0m\n",
      "\u001b[1;32mG:\\WPy64-3870\\python-3.8.7.amd64\\lib\\ssl.py\u001b[0m in \u001b[0;36mread\u001b[1;34m(self, len, buffer)\u001b[0m\n\u001b[0;32m   1098\u001b[0m             \u001b[1;32mif\u001b[0m \u001b[0mbuffer\u001b[0m \u001b[1;32mis\u001b[0m \u001b[1;32mnot\u001b[0m \u001b[1;32mNone\u001b[0m\u001b[1;33m:\u001b[0m\u001b[1;33m\u001b[0m\u001b[1;33m\u001b[0m\u001b[0m\n\u001b[1;32m-> 1099\u001b[1;33m                 \u001b[1;32mreturn\u001b[0m \u001b[0mself\u001b[0m\u001b[1;33m.\u001b[0m\u001b[0m_sslobj\u001b[0m\u001b[1;33m.\u001b[0m\u001b[0mread\u001b[0m\u001b[1;33m(\u001b[0m\u001b[0mlen\u001b[0m\u001b[1;33m,\u001b[0m \u001b[0mbuffer\u001b[0m\u001b[1;33m)\u001b[0m\u001b[1;33m\u001b[0m\u001b[1;33m\u001b[0m\u001b[0m\n\u001b[0m\u001b[0;32m   1100\u001b[0m             \u001b[1;32melse\u001b[0m\u001b[1;33m:\u001b[0m\u001b[1;33m\u001b[0m\u001b[1;33m\u001b[0m\u001b[0m\n",
      "\u001b[1;31mKeyboardInterrupt\u001b[0m: ",
      "\nDuring handling of the above exception, another exception occurred:\n",
      "\u001b[1;31mNameError\u001b[0m                                 Traceback (most recent call last)",
      "\u001b[1;32m<ipython-input-14-73dcf89d5854>\u001b[0m in \u001b[0;36m<module>\u001b[1;34m\u001b[0m\n\u001b[0;32m     26\u001b[0m \u001b[0mprepare_data_file\u001b[0m\u001b[1;33m(\u001b[0m\u001b[0mdownload_path\u001b[0m\u001b[1;33m,\u001b[0m \u001b[0msteamspy_data\u001b[0m\u001b[1;33m,\u001b[0m \u001b[0mindex\u001b[0m\u001b[1;33m,\u001b[0m \u001b[0msteamspy_columns\u001b[0m\u001b[1;33m)\u001b[0m\u001b[1;33m\u001b[0m\u001b[1;33m\u001b[0m\u001b[0m\n\u001b[0;32m     27\u001b[0m \u001b[1;33m\u001b[0m\u001b[0m\n\u001b[1;32m---> 28\u001b[1;33m process_batches(\n\u001b[0m\u001b[0;32m     29\u001b[0m     \u001b[0mparser\u001b[0m\u001b[1;33m=\u001b[0m\u001b[0mparse_steamspy_request\u001b[0m\u001b[1;33m,\u001b[0m\u001b[1;33m\u001b[0m\u001b[1;33m\u001b[0m\u001b[0m\n\u001b[0;32m     30\u001b[0m     \u001b[0mapp_list\u001b[0m\u001b[1;33m=\u001b[0m\u001b[0mfull_steam_ids\u001b[0m\u001b[1;33m[\u001b[0m\u001b[1;34m\"appid\"\u001b[0m\u001b[1;33m]\u001b[0m\u001b[1;33m,\u001b[0m\u001b[1;33m\u001b[0m\u001b[1;33m\u001b[0m\u001b[0m\n",
      "\u001b[1;32m<ipython-input-8-296a663e5212>\u001b[0m in \u001b[0;36mprocess_batches\u001b[1;34m(parser, app_list, download_path, data_filename, index_filename, columns, begin, end, batchsize, pause)\u001b[0m\n\u001b[0;32m     58\u001b[0m         \u001b[0mstop\u001b[0m \u001b[1;33m=\u001b[0m \u001b[0mbatches\u001b[0m\u001b[1;33m[\u001b[0m\u001b[0mi\u001b[0m\u001b[1;33m+\u001b[0m\u001b[1;36m1\u001b[0m\u001b[1;33m]\u001b[0m\u001b[1;33m\u001b[0m\u001b[1;33m\u001b[0m\u001b[0m\n\u001b[0;32m     59\u001b[0m \u001b[1;33m\u001b[0m\u001b[0m\n\u001b[1;32m---> 60\u001b[1;33m         \u001b[0mapp_data\u001b[0m \u001b[1;33m=\u001b[0m \u001b[0mget_app_data\u001b[0m\u001b[1;33m(\u001b[0m\u001b[0mapp_list\u001b[0m\u001b[1;33m,\u001b[0m \u001b[0mstart\u001b[0m\u001b[1;33m,\u001b[0m \u001b[0mstop\u001b[0m\u001b[1;33m,\u001b[0m \u001b[0mparser\u001b[0m\u001b[1;33m,\u001b[0m \u001b[0mpause\u001b[0m\u001b[1;33m)\u001b[0m\u001b[1;33m\u001b[0m\u001b[1;33m\u001b[0m\u001b[0m\n\u001b[0m\u001b[0;32m     61\u001b[0m \u001b[1;33m\u001b[0m\u001b[0m\n\u001b[0;32m     62\u001b[0m         \u001b[0mrel_path\u001b[0m \u001b[1;33m=\u001b[0m \u001b[0mos\u001b[0m\u001b[1;33m.\u001b[0m\u001b[0mpath\u001b[0m\u001b[1;33m.\u001b[0m\u001b[0mjoin\u001b[0m\u001b[1;33m(\u001b[0m\u001b[0mdownload_path\u001b[0m\u001b[1;33m,\u001b[0m \u001b[0mdata_filename\u001b[0m\u001b[1;33m)\u001b[0m\u001b[1;33m\u001b[0m\u001b[1;33m\u001b[0m\u001b[0m\n",
      "\u001b[1;32m<ipython-input-8-296a663e5212>\u001b[0m in \u001b[0;36mget_app_data\u001b[1;34m(app_list, start, stop, parser, pause)\u001b[0m\n\u001b[0;32m     11\u001b[0m \u001b[1;33m\u001b[0m\u001b[0m\n\u001b[0;32m     12\u001b[0m         \u001b[1;31m# retrive app data for a row, handled by supplied parser, and append to list\u001b[0m\u001b[1;33m\u001b[0m\u001b[1;33m\u001b[0m\u001b[1;33m\u001b[0m\u001b[0m\n\u001b[1;32m---> 13\u001b[1;33m         \u001b[0mdata\u001b[0m \u001b[1;33m=\u001b[0m \u001b[0mparser\u001b[0m\u001b[1;33m(\u001b[0m\u001b[0mappid\u001b[0m\u001b[1;33m)\u001b[0m\u001b[1;33m\u001b[0m\u001b[1;33m\u001b[0m\u001b[0m\n\u001b[0m\u001b[0;32m     14\u001b[0m         \u001b[0mapp_data\u001b[0m\u001b[1;33m.\u001b[0m\u001b[0mappend\u001b[0m\u001b[1;33m(\u001b[0m\u001b[0mdata\u001b[0m\u001b[1;33m)\u001b[0m\u001b[1;33m\u001b[0m\u001b[1;33m\u001b[0m\u001b[0m\n\u001b[0;32m     15\u001b[0m \u001b[1;33m\u001b[0m\u001b[0m\n",
      "\u001b[1;32m<ipython-input-14-73dcf89d5854>\u001b[0m in \u001b[0;36mparse_steamspy_request\u001b[1;34m(appid)\u001b[0m\n\u001b[0;32m      4\u001b[0m     \u001b[0mparameters\u001b[0m \u001b[1;33m=\u001b[0m \u001b[1;33m{\u001b[0m\u001b[1;34m\"request\"\u001b[0m\u001b[1;33m:\u001b[0m \u001b[1;34m\"appdetails\"\u001b[0m\u001b[1;33m,\u001b[0m \u001b[1;34m\"appid\"\u001b[0m\u001b[1;33m:\u001b[0m \u001b[0mappid\u001b[0m\u001b[1;33m}\u001b[0m\u001b[1;33m\u001b[0m\u001b[1;33m\u001b[0m\u001b[0m\n\u001b[0;32m      5\u001b[0m \u001b[1;33m\u001b[0m\u001b[0m\n\u001b[1;32m----> 6\u001b[1;33m     \u001b[0mjson_data\u001b[0m \u001b[1;33m=\u001b[0m \u001b[0mget_request\u001b[0m\u001b[1;33m(\u001b[0m\u001b[0murl\u001b[0m\u001b[1;33m,\u001b[0m \u001b[0mparameters\u001b[0m\u001b[1;33m)\u001b[0m\u001b[1;33m\u001b[0m\u001b[1;33m\u001b[0m\u001b[0m\n\u001b[0m\u001b[0;32m      7\u001b[0m     \u001b[1;32mreturn\u001b[0m \u001b[0mjson_data\u001b[0m\u001b[1;33m\u001b[0m\u001b[1;33m\u001b[0m\u001b[0m\n\u001b[0;32m      8\u001b[0m \u001b[1;33m\u001b[0m\u001b[0m\n",
      "\u001b[1;32m<ipython-input-3-97d12df6ed17>\u001b[0m in \u001b[0;36mget_request\u001b[1;34m(url, parameters, steamspy)\u001b[0m\n\u001b[0;32m     15\u001b[0m     \u001b[1;32mtry\u001b[0m\u001b[1;33m:\u001b[0m\u001b[1;33m\u001b[0m\u001b[1;33m\u001b[0m\u001b[0m\n\u001b[0;32m     16\u001b[0m         \u001b[0mresponse\u001b[0m \u001b[1;33m=\u001b[0m \u001b[0mrequests\u001b[0m\u001b[1;33m.\u001b[0m\u001b[0mget\u001b[0m\u001b[1;33m(\u001b[0m\u001b[0murl\u001b[0m\u001b[1;33m=\u001b[0m\u001b[0murl\u001b[0m\u001b[1;33m,\u001b[0m \u001b[0mparams\u001b[0m\u001b[1;33m=\u001b[0m\u001b[0mparameters\u001b[0m\u001b[1;33m)\u001b[0m\u001b[1;33m\u001b[0m\u001b[1;33m\u001b[0m\u001b[0m\n\u001b[1;32m---> 17\u001b[1;33m     \u001b[1;32mexcept\u001b[0m \u001b[0mSSLError\u001b[0m \u001b[1;32mas\u001b[0m \u001b[0ms\u001b[0m\u001b[1;33m:\u001b[0m\u001b[1;33m\u001b[0m\u001b[1;33m\u001b[0m\u001b[0m\n\u001b[0m\u001b[0;32m     18\u001b[0m         \u001b[0mprint\u001b[0m\u001b[1;33m(\u001b[0m\u001b[1;34m'SSL Error:'\u001b[0m\u001b[1;33m,\u001b[0m \u001b[0ms\u001b[0m\u001b[1;33m)\u001b[0m\u001b[1;33m\u001b[0m\u001b[1;33m\u001b[0m\u001b[0m\n\u001b[0;32m     19\u001b[0m \u001b[1;33m\u001b[0m\u001b[0m\n",
      "\u001b[1;31mNameError\u001b[0m: name 'SSLError' is not defined"
     ]
    }
   ],
   "source": [
    "def parse_steamspy_request(appid):\n",
    "    \"\"\"Parser to handle SteamSpy API data.\"\"\"\n",
    "    url = \"https://steamspy.com/api.php\"\n",
    "    parameters = {\"request\": \"appdetails\", \"appid\": appid}\n",
    "    \n",
    "    json_data = get_request(url, parameters)\n",
    "    return json_data\n",
    "\n",
    "\n",
    "# set files and columns\n",
    "download_path = '../data/download'\n",
    "steamspy_data = 'steamspy_data.csv'\n",
    "steamspy_index = 'steamspy_index.txt'\n",
    "\n",
    "steamspy_columns = [\n",
    "    'appid', 'name', 'developer', 'publisher', 'score_rank', 'positive',\n",
    "    'negative', 'userscore', 'owners', 'average_forever', 'average_2weeks',\n",
    "    'median_forever', 'median_2weeks', 'price', 'initialprice', 'discount',\n",
    "    'languages', 'genre', 'ccu', 'tags'\n",
    "]\n",
    "\n",
    "reset_index(download_path, steamspy_index)\n",
    "index = get_index(download_path, steamspy_index)\n",
    "\n",
    "# Wipe data file if index is 0\n",
    "prepare_data_file(download_path, steamspy_data, index, steamspy_columns)\n",
    "\n",
    "process_batches(\n",
    "    parser=parse_steamspy_request,\n",
    "    app_list=full_steam_ids[\"appid\"],\n",
    "    download_path=download_path, \n",
    "    data_filename=steamspy_data,\n",
    "    index_filename=steamspy_index,\n",
    "    columns=steamspy_columns,\n",
    "    begin=index,\n",
    "    end=len(full_steam_ids),\n",
    "    batchsize=300,\n",
    "    pause=0.1\n",
    ")"
   ]
  },
  {
   "cell_type": "markdown",
   "metadata": {},
   "source": [
    "Let's quickly check if we have valid data inside."
   ]
  },
  {
   "cell_type": "code",
   "execution_count": 70,
   "metadata": {},
   "outputs": [],
   "source": [
    "steam_spy_data = pd.read_csv('../data/download/steamspy_data.csv')"
   ]
  },
  {
   "cell_type": "code",
   "execution_count": 71,
   "metadata": {},
   "outputs": [
    {
     "name": "stdout",
     "output_type": "stream",
     "text": [
      "<class 'pandas.core.frame.DataFrame'>\n",
      "RangeIndex: 63968 entries, 0 to 63967\n",
      "Data columns (total 20 columns):\n",
      " #   Column           Non-Null Count  Dtype  \n",
      "---  ------           --------------  -----  \n",
      " 0   appid            63968 non-null  int64  \n",
      " 1   name             63865 non-null  object \n",
      " 2   developer        56705 non-null  object \n",
      " 3   publisher        56740 non-null  object \n",
      " 4   score_rank       48 non-null     float64\n",
      " 5   positive         63968 non-null  int64  \n",
      " 6   negative         63968 non-null  int64  \n",
      " 7   userscore        63968 non-null  int64  \n",
      " 8   owners           63968 non-null  object \n",
      " 9   average_forever  63968 non-null  int64  \n",
      " 10  average_2weeks   63968 non-null  int64  \n",
      " 11  median_forever   63968 non-null  int64  \n",
      " 12  median_2weeks    63968 non-null  int64  \n",
      " 13  price            56854 non-null  float64\n",
      " 14  initialprice     56856 non-null  float64\n",
      " 15  discount         56856 non-null  float64\n",
      " 16  languages        56814 non-null  object \n",
      " 17  genre            56653 non-null  object \n",
      " 18  ccu              63968 non-null  int64  \n",
      " 19  tags             63968 non-null  object \n",
      "dtypes: float64(4), int64(9), object(7)\n",
      "memory usage: 9.8+ MB\n"
     ]
    }
   ],
   "source": [
    "steam_spy_data.info()"
   ]
  },
  {
   "cell_type": "code",
   "execution_count": 72,
   "metadata": {},
   "outputs": [
    {
     "data": {
      "text/plain": [
       "0"
      ]
     },
     "execution_count": 72,
     "metadata": {},
     "output_type": "execute_result"
    }
   ],
   "source": [
    "steam_spy_data.duplicated(subset=\"appid\").sum()"
   ]
  },
  {
   "cell_type": "markdown",
   "metadata": {},
   "source": [
    "Looks good!\n",
    "\n",
    "Now we have the Steam Spy data available on `../data/download/steamspy_data.csv` and the Steam Store data available on `../data/download/steam_app_data.csv`"
   ]
  },
  {
   "cell_type": "markdown",
   "metadata": {},
   "source": [
    "## Steam Reviews\n",
    "\n",
    "While exploring why the steam reviews on steam spy and the steam store webpage itself were not the same, we got a way to check via the API partners itself. Let's try to obtain this information."
   ]
  },
  {
   "cell_type": "code",
   "execution_count": 39,
   "metadata": {},
   "outputs": [
    {
     "name": "stdout",
     "output_type": "stream",
     "text": [
      "Starting at index 0:\n",
      "\n",
      "Exported lines 0-299 to steamreviews_data.csv. Batch 0 time: 0:01:24 (avg: 0:01:24, remaining: 5:11:38)\n",
      "Exported lines 300-599 to steamreviews_data.csv. Batch 1 time: 0:01:25 (avg: 0:01:25, remaining: 5:12:08)\n",
      "Exported lines 600-899 to steamreviews_data.csv. Batch 2 time: 0:01:31 (avg: 0:01:27, remaining: 5:18:31)\n",
      "Exported lines 900-1199 to steamreviews_data.csv. Batch 3 time: 0:01:32 (avg: 0:01:28, remaining: 5:21:21)\n",
      "Exported lines 1200-1499 to steamreviews_data.csv. Batch 4 time: 0:01:31 (avg: 0:01:29, remaining: 5:21:41)\n",
      "Exported lines 1500-1799 to steamreviews_data.csv. Batch 5 time: 0:01:30 (avg: 0:01:29, remaining: 5:20:49)\n",
      "Exported lines 1800-2099 to steamreviews_data.csv. Batch 6 time: 0:01:31 (avg: 0:01:29, remaining: 5:20:29)\n",
      "Exported lines 2100-2399 to steamreviews_data.csv. Batch 7 time: 0:01:31 (avg: 0:01:29, remaining: 5:19:57)\n",
      "Exported lines 2400-2699 to steamreviews_data.csv. Batch 8 time: 0:01:32 (avg: 0:01:30, remaining: 5:19:34)\n",
      "Exported lines 2700-2999 to steamreviews_data.csv. Batch 9 time: 0:01:31 (avg: 0:01:30, remaining: 5:18:36)\n",
      "Exported lines 3000-3299 to steamreviews_data.csv. Batch 10 time: 0:01:32 (avg: 0:01:30, remaining: 5:17:43)\n",
      "Exported lines 3300-3599 to steamreviews_data.csv. Batch 11 time: 0:01:32 (avg: 0:01:30, remaining: 5:16:55)\n",
      "Exported lines 3600-3899 to steamreviews_data.csv. Batch 12 time: 0:01:33 (avg: 0:01:30, remaining: 5:16:15)\n",
      "Exported lines 3900-4199 to steamreviews_data.csv. Batch 13 time: 0:01:33 (avg: 0:01:31, remaining: 5:15:28)\n",
      "Exported lines 4200-4499 to steamreviews_data.csv. Batch 14 time: 0:01:33 (avg: 0:01:31, remaining: 5:14:26)\n",
      "Exported lines 4500-4799 to steamreviews_data.csv. Batch 15 time: 0:01:30 (avg: 0:01:31, remaining: 5:12:49)\n",
      "Exported lines 4800-5099 to steamreviews_data.csv. Batch 16 time: 0:01:30 (avg: 0:01:31, remaining: 5:11:16)\n",
      "Exported lines 5100-5399 to steamreviews_data.csv. Batch 17 time: 0:01:30 (avg: 0:01:31, remaining: 5:09:42)\n",
      "Exported lines 5400-5699 to steamreviews_data.csv. Batch 18 time: 0:01:33 (avg: 0:01:31, remaining: 5:08:39)\n",
      "Exported lines 5700-5999 to steamreviews_data.csv. Batch 19 time: 0:01:32 (avg: 0:01:31, remaining: 5:07:23)\n",
      "Exported lines 6000-6299 to steamreviews_data.csv. Batch 20 time: 0:01:32 (avg: 0:01:31, remaining: 5:06:04)\n",
      "Exported lines 6300-6599 to steamreviews_data.csv. Batch 21 time: 0:01:32 (avg: 0:01:31, remaining: 5:04:44)\n",
      "Exported lines 6600-6899 to steamreviews_data.csv. Batch 22 time: 0:01:33 (avg: 0:01:31, remaining: 5:03:32)\n",
      "Exported lines 6900-7199 to steamreviews_data.csv. Batch 23 time: 0:01:34 (avg: 0:01:31, remaining: 5:02:28)\n",
      "Exported lines 7200-7499 to steamreviews_data.csv. Batch 24 time: 0:01:33 (avg: 0:01:31, remaining: 5:01:12)\n",
      "Exported lines 7500-7799 to steamreviews_data.csv. Batch 25 time: 0:01:35 (avg: 0:01:31, remaining: 5:00:09)\n",
      "Exported lines 7800-8099 to steamreviews_data.csv. Batch 26 time: 0:01:34 (avg: 0:01:32, remaining: 4:58:55)\n",
      "Exported lines 8100-8399 to steamreviews_data.csv. Batch 27 time: 0:01:35 (avg: 0:01:32, remaining: 4:57:47)\n",
      "Exported lines 8400-8699 to steamreviews_data.csv. Batch 28 time: 0:01:34 (avg: 0:01:32, remaining: 4:56:34)\n",
      "Exported lines 8700-8999 to steamreviews_data.csv. Batch 29 time: 0:01:35 (avg: 0:01:32, remaining: 4:55:21)\n",
      "Exported lines 9000-9299 to steamreviews_data.csv. Batch 30 time: 0:01:33 (avg: 0:01:32, remaining: 4:53:59)\n",
      "Exported lines 9300-9599 to steamreviews_data.csv. Batch 31 time: 0:01:34 (avg: 0:01:32, remaining: 4:52:40)\n",
      "Exported lines 9600-9899 to steamreviews_data.csv. Batch 32 time: 0:01:34 (avg: 0:01:32, remaining: 4:51:22)\n",
      "Exported lines 9900-10199 to steamreviews_data.csv. Batch 33 time: 0:01:33 (avg: 0:01:32, remaining: 4:49:57)\n",
      "Exported lines 10200-10499 to steamreviews_data.csv. Batch 34 time: 0:01:35 (avg: 0:01:32, remaining: 4:48:43)\n",
      "Exported lines 10500-10799 to steamreviews_data.csv. Batch 35 time: 0:01:36 (avg: 0:01:32, remaining: 4:47:32)\n",
      "Exported lines 10800-11099 to steamreviews_data.csv. Batch 36 time: 0:01:36 (avg: 0:01:32, remaining: 4:46:19)\n",
      "Exported lines 11100-11399 to steamreviews_data.csv. Batch 37 time: 0:01:37 (avg: 0:01:32, remaining: 4:45:09)\n",
      "Exported lines 11400-11699 to steamreviews_data.csv. Batch 38 time: 0:01:35 (avg: 0:01:33, remaining: 4:43:47)\n",
      "Exported lines 11700-11999 to steamreviews_data.csv. Batch 39 time: 0:01:35 (avg: 0:01:33, remaining: 4:42:28)\n",
      "Exported lines 12000-12299 to steamreviews_data.csv. Batch 40 time: 0:01:35 (avg: 0:01:33, remaining: 4:41:06)\n",
      "Exported lines 12300-12599 to steamreviews_data.csv. Batch 41 time: 0:01:34 (avg: 0:01:33, remaining: 4:39:38)\n",
      "Exported lines 12600-12899 to steamreviews_data.csv. Batch 42 time: 0:01:37 (avg: 0:01:33, remaining: 4:38:23)\n",
      "Exported lines 12900-13199 to steamreviews_data.csv. Batch 43 time: 0:01:34 (avg: 0:01:33, remaining: 4:36:55)\n",
      "Exported lines 13200-13499 to steamreviews_data.csv. Batch 44 time: 0:01:35 (avg: 0:01:33, remaining: 4:35:30)\n",
      "Exported lines 13500-13799 to steamreviews_data.csv. Batch 45 time: 0:01:34 (avg: 0:01:33, remaining: 4:34:03)\n",
      "Exported lines 13800-14099 to steamreviews_data.csv. Batch 46 time: 0:01:35 (avg: 0:01:33, remaining: 4:32:39)\n",
      "Exported lines 14100-14399 to steamreviews_data.csv. Batch 47 time: 0:01:35 (avg: 0:01:33, remaining: 4:31:14)\n",
      "Exported lines 14400-14699 to steamreviews_data.csv. Batch 48 time: 0:01:35 (avg: 0:01:33, remaining: 4:29:47)\n",
      "Exported lines 14700-14999 to steamreviews_data.csv. Batch 49 time: 0:01:34 (avg: 0:01:33, remaining: 4:28:17)\n",
      "Exported lines 15000-15299 to steamreviews_data.csv. Batch 50 time: 0:01:33 (avg: 0:01:33, remaining: 4:26:46)\n",
      "Exported lines 15300-15599 to steamreviews_data.csv. Batch 51 time: 0:01:36 (avg: 0:01:33, remaining: 4:25:21)\n",
      "Exported lines 15600-15899 to steamreviews_data.csv. Batch 52 time: 0:01:34 (avg: 0:01:33, remaining: 4:23:52)\n",
      "Exported lines 15900-16199 to steamreviews_data.csv. Batch 53 time: 0:01:35 (avg: 0:01:33, remaining: 4:22:25)\n",
      "Exported lines 16200-16499 to steamreviews_data.csv. Batch 54 time: 0:01:35 (avg: 0:01:33, remaining: 4:20:55)\n",
      "Exported lines 16500-16799 to steamreviews_data.csv. Batch 55 time: 0:01:35 (avg: 0:01:33, remaining: 4:19:28)\n",
      "Exported lines 16800-17099 to steamreviews_data.csv. Batch 56 time: 0:01:23 (avg: 0:01:33, remaining: 4:17:24)\n",
      "Exported lines 17100-17399 to steamreviews_data.csv. Batch 57 time: 0:01:31 (avg: 0:01:33, remaining: 4:15:45)\n",
      "Exported lines 17400-17699 to steamreviews_data.csv. Batch 58 time: 0:01:35 (avg: 0:01:33, remaining: 4:14:17)\n",
      "Exported lines 17700-17999 to steamreviews_data.csv. Batch 59 time: 0:01:34 (avg: 0:01:33, remaining: 4:12:46)\n",
      "Exported lines 18000-18299 to steamreviews_data.csv. Batch 60 time: 0:01:34 (avg: 0:01:33, remaining: 4:11:17)\n",
      "Exported lines 18300-18599 to steamreviews_data.csv. Batch 61 time: 0:01:35 (avg: 0:01:33, remaining: 4:09:50)\n",
      "Exported lines 18600-18899 to steamreviews_data.csv. Batch 62 time: 0:01:36 (avg: 0:01:33, remaining: 4:08:24)\n",
      "Exported lines 18900-19199 to steamreviews_data.csv. Batch 63 time: 0:01:37 (avg: 0:01:33, remaining: 4:06:59)\n",
      "Exported lines 19200-19499 to steamreviews_data.csv. Batch 64 time: 0:01:34 (avg: 0:01:33, remaining: 4:05:29)\n",
      "Exported lines 19500-19799 to steamreviews_data.csv. Batch 65 time: 0:01:34 (avg: 0:01:33, remaining: 4:03:58)\n",
      "Exported lines 19800-20099 to steamreviews_data.csv. Batch 66 time: 0:01:36 (avg: 0:01:33, remaining: 4:02:31)\n",
      "Exported lines 20100-20399 to steamreviews_data.csv. Batch 67 time: 0:01:36 (avg: 0:01:33, remaining: 4:01:03)\n",
      "Exported lines 20400-20699 to steamreviews_data.csv. Batch 68 time: 0:01:36 (avg: 0:01:33, remaining: 3:59:35)\n",
      "Exported lines 20700-20999 to steamreviews_data.csv. Batch 69 time: 0:01:35 (avg: 0:01:33, remaining: 3:58:04)\n",
      "Exported lines 21000-21299 to steamreviews_data.csv. Batch 70 time: 0:01:35 (avg: 0:01:33, remaining: 3:56:34)\n",
      "Exported lines 21300-21599 to steamreviews_data.csv. Batch 71 time: 0:01:35 (avg: 0:01:33, remaining: 3:55:05)\n",
      "Exported lines 21600-21899 to steamreviews_data.csv. Batch 72 time: 0:01:34 (avg: 0:01:33, remaining: 3:53:33)\n",
      "Exported lines 21900-22199 to steamreviews_data.csv. Batch 73 time: 0:01:37 (avg: 0:01:33, remaining: 3:52:06)\n",
      "Exported lines 22200-22499 to steamreviews_data.csv. Batch 74 time: 0:01:35 (avg: 0:01:33, remaining: 3:50:35)\n",
      "Exported lines 22500-22799 to steamreviews_data.csv. Batch 75 time: 0:01:35 (avg: 0:01:33, remaining: 3:49:03)\n",
      "Exported lines 22800-23099 to steamreviews_data.csv. Batch 76 time: 0:01:36 (avg: 0:01:34, remaining: 3:47:35)\n",
      "Exported lines 23100-23399 to steamreviews_data.csv. Batch 77 time: 0:01:37 (avg: 0:01:34, remaining: 3:46:08)\n",
      "Exported lines 23400-23699 to steamreviews_data.csv. Batch 78 time: 0:01:35 (avg: 0:01:34, remaining: 3:44:37)\n",
      "Exported lines 23700-23999 to steamreviews_data.csv. Batch 79 time: 0:01:33 (avg: 0:01:34, remaining: 3:43:02)\n",
      "Exported lines 24000-24299 to steamreviews_data.csv. Batch 80 time: 0:01:36 (avg: 0:01:34, remaining: 3:41:34)\n",
      "Exported lines 24300-24599 to steamreviews_data.csv. Batch 81 time: 0:01:35 (avg: 0:01:34, remaining: 3:40:03)\n",
      "Exported lines 24600-24899 to steamreviews_data.csv. Batch 82 time: 0:01:37 (avg: 0:01:34, remaining: 3:38:35)\n",
      "Exported lines 24900-25199 to steamreviews_data.csv. Batch 83 time: 0:01:37 (avg: 0:01:34, remaining: 3:37:07)\n",
      "Exported lines 25200-25499 to steamreviews_data.csv. Batch 84 time: 0:01:37 (avg: 0:01:34, remaining: 3:35:40)\n",
      "Exported lines 25500-25799 to steamreviews_data.csv. Batch 85 time: 0:01:42 (avg: 0:01:34, remaining: 3:34:18)\n",
      "Exported lines 25800-26099 to steamreviews_data.csv. Batch 86 time: 0:01:34 (avg: 0:01:34, remaining: 3:32:44)\n",
      "Exported lines 26100-26399 to steamreviews_data.csv. Batch 87 time: 0:01:32 (avg: 0:01:34, remaining: 3:31:08)\n",
      "Exported lines 26400-26699 to steamreviews_data.csv. Batch 88 time: 0:01:32 (avg: 0:01:34, remaining: 3:29:31)\n",
      "Exported lines 26700-26999 to steamreviews_data.csv. Batch 89 time: 0:01:37 (avg: 0:01:34, remaining: 3:28:02)\n",
      "Exported lines 27000-27299 to steamreviews_data.csv. Batch 90 time: 0:01:33 (avg: 0:01:34, remaining: 3:26:27)\n",
      "Exported lines 27300-27599 to steamreviews_data.csv. Batch 91 time: 0:01:31 (avg: 0:01:34, remaining: 3:24:49)\n",
      "Exported lines 27600-27899 to steamreviews_data.csv. Batch 92 time: 0:01:33 (avg: 0:01:34, remaining: 3:23:14)\n",
      "Exported lines 27900-28199 to steamreviews_data.csv. Batch 93 time: 0:01:39 (avg: 0:01:34, remaining: 3:21:48)\n",
      "Exported lines 28200-28499 to steamreviews_data.csv. Batch 94 time: 0:01:33 (avg: 0:01:34, remaining: 3:20:13)\n",
      "Exported lines 28500-28799 to steamreviews_data.csv. Batch 95 time: 0:01:32 (avg: 0:01:34, remaining: 3:18:38)\n",
      "Exported lines 28800-29099 to steamreviews_data.csv. Batch 96 time: 0:01:34 (avg: 0:01:34, remaining: 3:17:05)\n",
      "Exported lines 29100-29399 to steamreviews_data.csv. Batch 97 time: 0:01:34 (avg: 0:01:34, remaining: 3:15:31)\n",
      "Exported lines 29400-29699 to steamreviews_data.csv. Batch 98 time: 0:01:33 (avg: 0:01:34, remaining: 3:13:56)\n",
      "Exported lines 29700-29999 to steamreviews_data.csv. Batch 99 time: 0:01:34 (avg: 0:01:34, remaining: 3:12:23)\n",
      "Exported lines 30000-30299 to steamreviews_data.csv. Batch 100 time: 0:01:33 (avg: 0:01:34, remaining: 3:10:48)\n",
      "Exported lines 30300-30599 to steamreviews_data.csv. Batch 101 time: 0:01:30 (avg: 0:01:34, remaining: 3:09:09)\n",
      "Exported lines 30600-30899 to steamreviews_data.csv. Batch 102 time: 0:01:32 (avg: 0:01:34, remaining: 3:07:33)\n",
      "Exported lines 30900-31199 to steamreviews_data.csv. Batch 103 time: 0:01:26 (avg: 0:01:34, remaining: 3:05:50)\n",
      "Exported lines 31200-31499 to steamreviews_data.csv. Batch 104 time: 0:01:27 (avg: 0:01:34, remaining: 3:04:08)\n",
      "Exported lines 31500-31799 to steamreviews_data.csv. Batch 105 time: 0:01:27 (avg: 0:01:34, remaining: 3:02:27)\n",
      "Exported lines 31800-32099 to steamreviews_data.csv. Batch 106 time: 0:01:29 (avg: 0:01:34, remaining: 3:00:49)\n",
      "Exported lines 32100-32399 to steamreviews_data.csv. Batch 107 time: 0:01:29 (avg: 0:01:33, remaining: 2:59:11)\n",
      "Exported lines 32400-32699 to steamreviews_data.csv. Batch 108 time: 0:01:33 (avg: 0:01:33, remaining: 2:57:36)\n",
      "Exported lines 32700-32999 to steamreviews_data.csv. Batch 109 time: 0:01:30 (avg: 0:01:33, remaining: 2:55:59)\n",
      "Exported lines 33000-33299 to steamreviews_data.csv. Batch 110 time: 0:01:28 (avg: 0:01:33, remaining: 2:54:19)\n",
      "Exported lines 33300-33599 to steamreviews_data.csv. Batch 111 time: 0:01:28 (avg: 0:01:33, remaining: 2:52:40)\n",
      "Exported lines 33600-33899 to steamreviews_data.csv. Batch 112 time: 0:01:29 (avg: 0:01:33, remaining: 2:51:03)\n",
      "Exported lines 33900-34199 to steamreviews_data.csv. Batch 113 time: 0:01:28 (avg: 0:01:33, remaining: 2:49:24)\n",
      "Exported lines 34200-34499 to steamreviews_data.csv. Batch 114 time: 0:01:29 (avg: 0:01:33, remaining: 2:47:46)\n",
      "Exported lines 34500-34799 to steamreviews_data.csv. Batch 115 time: 0:01:28 (avg: 0:01:33, remaining: 2:46:08)\n",
      "Exported lines 34800-35099 to steamreviews_data.csv. Batch 116 time: 0:01:27 (avg: 0:01:33, remaining: 2:44:30)\n",
      "Exported lines 35100-35399 to steamreviews_data.csv. Batch 117 time: 0:01:27 (avg: 0:01:33, remaining: 2:42:52)\n",
      "Exported lines 35400-35699 to steamreviews_data.csv. Batch 118 time: 0:01:28 (avg: 0:01:33, remaining: 2:41:14)\n",
      "Exported lines 35700-35999 to steamreviews_data.csv. Batch 119 time: 0:01:29 (avg: 0:01:33, remaining: 2:39:37)\n",
      "Exported lines 36000-36299 to steamreviews_data.csv. Batch 120 time: 0:01:26 (avg: 0:01:33, remaining: 2:37:59)\n",
      "Exported lines 36300-36599 to steamreviews_data.csv. Batch 121 time: 0:01:27 (avg: 0:01:33, remaining: 2:36:21)\n",
      "Exported lines 36600-36899 to steamreviews_data.csv. Batch 122 time: 0:01:34 (avg: 0:01:33, remaining: 2:34:49)\n",
      "Exported lines 36900-37199 to steamreviews_data.csv. Batch 123 time: 0:01:33 (avg: 0:01:33, remaining: 2:33:16)\n",
      "Exported lines 37200-37499 to steamreviews_data.csv. Batch 124 time: 0:01:29 (avg: 0:01:33, remaining: 2:31:40)\n",
      "Exported lines 37500-37799 to steamreviews_data.csv. Batch 125 time: 0:01:27 (avg: 0:01:33, remaining: 2:30:03)\n",
      "Exported lines 37800-38099 to steamreviews_data.csv. Batch 126 time: 0:01:27 (avg: 0:01:33, remaining: 2:28:26)\n",
      "Exported lines 38100-38399 to steamreviews_data.csv. Batch 127 time: 0:01:35 (avg: 0:01:33, remaining: 2:26:55)\n",
      "Exported lines 38400-38699 to steamreviews_data.csv. Batch 128 time: 0:01:30 (avg: 0:01:33, remaining: 2:25:19)\n",
      "Exported lines 38700-38999 to steamreviews_data.csv. Batch 129 time: 0:01:29 (avg: 0:01:33, remaining: 2:23:44)\n",
      "Exported lines 39000-39299 to steamreviews_data.csv. Batch 130 time: 0:01:31 (avg: 0:01:33, remaining: 2:22:10)\n",
      "Exported lines 39300-39599 to steamreviews_data.csv. Batch 131 time: 0:01:28 (avg: 0:01:33, remaining: 2:20:34)\n",
      "Exported lines 39600-39899 to steamreviews_data.csv. Batch 132 time: 0:01:28 (avg: 0:01:33, remaining: 2:18:59)\n",
      "Exported lines 39900-40199 to steamreviews_data.csv. Batch 133 time: 0:01:31 (avg: 0:01:33, remaining: 2:17:25)\n",
      "Exported lines 40200-40499 to steamreviews_data.csv. Batch 134 time: 0:01:29 (avg: 0:01:33, remaining: 2:15:50)\n",
      "Exported lines 40500-40799 to steamreviews_data.csv. Batch 135 time: 0:01:34 (avg: 0:01:33, remaining: 2:14:18)\n",
      "Exported lines 40800-41099 to steamreviews_data.csv. Batch 136 time: 0:01:28 (avg: 0:01:33, remaining: 2:12:42)\n",
      "Exported lines 41100-41399 to steamreviews_data.csv. Batch 137 time: 0:01:30 (avg: 0:01:33, remaining: 2:11:08)\n",
      "Exported lines 41400-41699 to steamreviews_data.csv. Batch 138 time: 0:01:26 (avg: 0:01:33, remaining: 2:09:31)\n",
      "Exported lines 41700-41999 to steamreviews_data.csv. Batch 139 time: 0:01:30 (avg: 0:01:32, remaining: 2:07:57)\n",
      "Exported lines 42000-42299 to steamreviews_data.csv. Batch 140 time: 0:01:29 (avg: 0:01:32, remaining: 2:06:23)\n",
      "Exported lines 42300-42599 to steamreviews_data.csv. Batch 141 time: 0:01:29 (avg: 0:01:32, remaining: 2:04:48)\n",
      "Exported lines 42600-42899 to steamreviews_data.csv. Batch 142 time: 0:01:29 (avg: 0:01:32, remaining: 2:03:14)\n",
      "Exported lines 42900-43199 to steamreviews_data.csv. Batch 143 time: 0:01:27 (avg: 0:01:32, remaining: 2:01:38)\n",
      "Exported lines 43200-43499 to steamreviews_data.csv. Batch 144 time: 0:01:27 (avg: 0:01:32, remaining: 2:00:03)\n",
      "Exported lines 43500-43799 to steamreviews_data.csv. Batch 145 time: 0:01:27 (avg: 0:01:32, remaining: 1:58:28)\n",
      "Exported lines 43800-44099 to steamreviews_data.csv. Batch 146 time: 0:01:28 (avg: 0:01:32, remaining: 1:56:54)\n"
     ]
    },
    {
     "name": "stdout",
     "output_type": "stream",
     "text": [
      "Exported lines 44100-44399 to steamreviews_data.csv. Batch 147 time: 0:01:30 (avg: 0:01:32, remaining: 1:55:20)\n",
      "Exported lines 44400-44699 to steamreviews_data.csv. Batch 148 time: 0:01:29 (avg: 0:01:32, remaining: 1:53:46)\n",
      "Exported lines 44700-44999 to steamreviews_data.csv. Batch 149 time: 0:01:28 (avg: 0:01:32, remaining: 1:52:12)\n",
      "Exported lines 45000-45299 to steamreviews_data.csv. Batch 150 time: 0:01:28 (avg: 0:01:32, remaining: 1:50:38)\n",
      "Exported lines 45300-45599 to steamreviews_data.csv. Batch 151 time: 0:01:28 (avg: 0:01:32, remaining: 1:49:03)\n",
      "Exported lines 45600-45899 to steamreviews_data.csv. Batch 152 time: 0:01:28 (avg: 0:01:32, remaining: 1:47:29)\n",
      "Exported lines 45900-46199 to steamreviews_data.csv. Batch 153 time: 0:01:26 (avg: 0:01:32, remaining: 1:45:54)\n",
      "Exported lines 46200-46499 to steamreviews_data.csv. Batch 154 time: 0:01:29 (avg: 0:01:32, remaining: 1:44:21)\n",
      "Exported lines 46500-46799 to steamreviews_data.csv. Batch 155 time: 0:01:31 (avg: 0:01:32, remaining: 1:42:48)\n",
      "Exported lines 46800-47099 to steamreviews_data.csv. Batch 156 time: 0:01:38 (avg: 0:01:32, remaining: 1:41:19)\n",
      "Exported lines 47100-47399 to steamreviews_data.csv. Batch 157 time: 0:01:43 (avg: 0:01:32, remaining: 1:39:51)\n",
      "Exported lines 47400-47699 to steamreviews_data.csv. Batch 158 time: 0:01:36 (avg: 0:01:32, remaining: 1:38:20)\n",
      "Exported lines 47700-47999 to steamreviews_data.csv. Batch 159 time: 0:01:36 (avg: 0:01:32, remaining: 1:36:50)\n",
      "Exported lines 48000-48299 to steamreviews_data.csv. Batch 160 time: 0:01:34 (avg: 0:01:32, remaining: 1:35:18)\n",
      "Exported lines 48300-48599 to steamreviews_data.csv. Batch 161 time: 0:01:35 (avg: 0:01:32, remaining: 1:33:47)\n",
      "Exported lines 48600-48899 to steamreviews_data.csv. Batch 162 time: 0:01:36 (avg: 0:01:32, remaining: 1:32:16)\n",
      "Exported lines 48900-49199 to steamreviews_data.csv. Batch 163 time: 0:01:34 (avg: 0:01:32, remaining: 1:30:44)\n",
      "Exported lines 49200-49499 to steamreviews_data.csv. Batch 164 time: 0:01:33 (avg: 0:01:32, remaining: 1:29:12)\n",
      "Exported lines 49500-49799 to steamreviews_data.csv. Batch 165 time: 0:01:32 (avg: 0:01:32, remaining: 1:27:40)\n",
      "Exported lines 49800-50099 to steamreviews_data.csv. Batch 166 time: 0:01:35 (avg: 0:01:32, remaining: 1:26:08)\n",
      "Exported lines 50100-50399 to steamreviews_data.csv. Batch 167 time: 0:01:34 (avg: 0:01:32, remaining: 1:24:37)\n",
      "Exported lines 50400-50699 to steamreviews_data.csv. Batch 168 time: 0:01:35 (avg: 0:01:32, remaining: 1:23:05)\n",
      "Exported lines 50700-50999 to steamreviews_data.csv. Batch 169 time: 0:01:31 (avg: 0:01:32, remaining: 1:21:33)\n",
      "Exported lines 51000-51299 to steamreviews_data.csv. Batch 170 time: 0:01:32 (avg: 0:01:32, remaining: 1:20:00)\n",
      "Exported lines 51300-51599 to steamreviews_data.csv. Batch 171 time: 0:01:31 (avg: 0:01:32, remaining: 1:18:28)\n",
      "Exported lines 51600-51899 to steamreviews_data.csv. Batch 172 time: 0:01:33 (avg: 0:01:32, remaining: 1:16:56)\n",
      "Exported lines 51900-52199 to steamreviews_data.csv. Batch 173 time: 0:01:34 (avg: 0:01:32, remaining: 1:15:24)\n",
      "Exported lines 52200-52499 to steamreviews_data.csv. Batch 174 time: 0:01:34 (avg: 0:01:32, remaining: 1:13:52)\n",
      "Exported lines 52500-52799 to steamreviews_data.csv. Batch 175 time: 0:01:32 (avg: 0:01:32, remaining: 1:12:19)\n",
      "Exported lines 52800-53099 to steamreviews_data.csv. Batch 176 time: 0:01:34 (avg: 0:01:32, remaining: 1:10:47)\n",
      "Exported lines 53100-53399 to steamreviews_data.csv. Batch 177 time: 0:01:34 (avg: 0:01:32, remaining: 1:09:15)\n",
      "Exported lines 53400-53699 to steamreviews_data.csv. Batch 178 time: 0:01:32 (avg: 0:01:32, remaining: 1:07:43)\n",
      "Exported lines 53700-53999 to steamreviews_data.csv. Batch 179 time: 0:01:35 (avg: 0:01:32, remaining: 1:06:11)\n",
      "Exported lines 54000-54299 to steamreviews_data.csv. Batch 180 time: 0:01:34 (avg: 0:01:32, remaining: 1:04:39)\n",
      "Exported lines 54300-54599 to steamreviews_data.csv. Batch 181 time: 0:01:34 (avg: 0:01:32, remaining: 1:03:07)\n",
      "Exported lines 54600-54899 to steamreviews_data.csv. Batch 182 time: 0:01:32 (avg: 0:01:32, remaining: 1:01:35)\n",
      "Exported lines 54900-55199 to steamreviews_data.csv. Batch 183 time: 0:01:34 (avg: 0:01:32, remaining: 1:00:03)\n",
      "Exported lines 55200-55499 to steamreviews_data.csv. Batch 184 time: 0:01:35 (avg: 0:01:32, remaining: 0:58:31)\n",
      "Exported lines 55500-55799 to steamreviews_data.csv. Batch 185 time: 0:01:33 (avg: 0:01:32, remaining: 0:56:59)\n",
      "Exported lines 55800-56099 to steamreviews_data.csv. Batch 186 time: 0:01:34 (avg: 0:01:32, remaining: 0:55:27)\n",
      "Exported lines 56100-56399 to steamreviews_data.csv. Batch 187 time: 0:01:33 (avg: 0:01:32, remaining: 0:53:55)\n",
      "Exported lines 56400-56699 to steamreviews_data.csv. Batch 188 time: 0:01:35 (avg: 0:01:32, remaining: 0:52:23)\n",
      "Exported lines 56700-56999 to steamreviews_data.csv. Batch 189 time: 0:01:35 (avg: 0:01:32, remaining: 0:50:51)\n",
      "Exported lines 57000-57299 to steamreviews_data.csv. Batch 190 time: 0:01:34 (avg: 0:01:32, remaining: 0:49:19)\n",
      "Exported lines 57300-57599 to steamreviews_data.csv. Batch 191 time: 0:01:34 (avg: 0:01:32, remaining: 0:47:46)\n",
      "Exported lines 57600-57899 to steamreviews_data.csv. Batch 192 time: 0:01:37 (avg: 0:01:32, remaining: 0:46:15)\n",
      "Exported lines 57900-58199 to steamreviews_data.csv. Batch 193 time: 0:01:34 (avg: 0:01:32, remaining: 0:44:42)\n",
      "Exported lines 58200-58499 to steamreviews_data.csv. Batch 194 time: 0:01:35 (avg: 0:01:33, remaining: 0:43:10)\n",
      "Exported lines 58500-58799 to steamreviews_data.csv. Batch 195 time: 0:01:35 (avg: 0:01:33, remaining: 0:41:38)\n",
      "Exported lines 58800-59099 to steamreviews_data.csv. Batch 196 time: 0:01:35 (avg: 0:01:33, remaining: 0:40:06)\n",
      "Exported lines 59100-59399 to steamreviews_data.csv. Batch 197 time: 0:01:35 (avg: 0:01:33, remaining: 0:38:34)\n",
      "Exported lines 59400-59699 to steamreviews_data.csv. Batch 198 time: 0:01:37 (avg: 0:01:33, remaining: 0:37:02)\n",
      "Exported lines 59700-59999 to steamreviews_data.csv. Batch 199 time: 0:01:34 (avg: 0:01:33, remaining: 0:35:29)\n",
      "Exported lines 60000-60299 to steamreviews_data.csv. Batch 200 time: 0:01:34 (avg: 0:01:33, remaining: 0:33:57)\n",
      "Exported lines 60300-60599 to steamreviews_data.csv. Batch 201 time: 0:01:35 (avg: 0:01:33, remaining: 0:32:24)\n",
      "Exported lines 60600-60899 to steamreviews_data.csv. Batch 202 time: 0:01:33 (avg: 0:01:33, remaining: 0:30:52)\n",
      "Exported lines 60900-61199 to steamreviews_data.csv. Batch 203 time: 0:01:34 (avg: 0:01:33, remaining: 0:29:19)\n",
      "Exported lines 61200-61499 to steamreviews_data.csv. Batch 204 time: 0:01:33 (avg: 0:01:33, remaining: 0:27:47)\n",
      "Exported lines 61500-61799 to steamreviews_data.csv. Batch 205 time: 0:01:33 (avg: 0:01:33, remaining: 0:26:14)\n",
      "Exported lines 61800-62099 to steamreviews_data.csv. Batch 206 time: 0:01:34 (avg: 0:01:33, remaining: 0:24:42)\n",
      "Exported lines 62100-62399 to steamreviews_data.csv. Batch 207 time: 0:01:32 (avg: 0:01:33, remaining: 0:23:09)\n",
      "Exported lines 62400-62699 to steamreviews_data.csv. Batch 208 time: 0:01:41 (avg: 0:01:33, remaining: 0:21:37)\n",
      "Exported lines 62700-62999 to steamreviews_data.csv. Batch 209 time: 0:01:35 (avg: 0:01:33, remaining: 0:20:05)\n",
      "Exported lines 63000-63299 to steamreviews_data.csv. Batch 210 time: 0:01:35 (avg: 0:01:33, remaining: 0:18:32)\n",
      "Exported lines 63300-63599 to steamreviews_data.csv. Batch 211 time: 0:01:34 (avg: 0:01:33, remaining: 0:16:59)\n",
      "Exported lines 63600-63899 to steamreviews_data.csv. Batch 212 time: 0:01:36 (avg: 0:01:33, remaining: 0:15:27)\n",
      "Exported lines 63900-64199 to steamreviews_data.csv. Batch 213 time: 0:01:29 (avg: 0:01:33, remaining: 0:13:54)\n",
      "Exported lines 64200-64499 to steamreviews_data.csv. Batch 214 time: 0:01:29 (avg: 0:01:33, remaining: 0:12:21)\n",
      "Exported lines 64500-64799 to steamreviews_data.csv. Batch 215 time: 0:01:31 (avg: 0:01:33, remaining: 0:10:48)\n",
      "Exported lines 64800-65099 to steamreviews_data.csv. Batch 216 time: 0:01:38 (avg: 0:01:33, remaining: 0:09:16)\n",
      "Exported lines 65100-65399 to steamreviews_data.csv. Batch 217 time: 0:01:33 (avg: 0:01:33, remaining: 0:07:43)\n",
      "Exported lines 65400-65699 to steamreviews_data.csv. Batch 218 time: 0:01:39 (avg: 0:01:33, remaining: 0:06:11)\n",
      "Exported lines 65700-65999 to steamreviews_data.csv. Batch 219 time: 0:01:29 (avg: 0:01:33, remaining: 0:04:38)\n",
      "Exported lines 66000-66299 to steamreviews_data.csv. Batch 220 time: 0:01:30 (avg: 0:01:33, remaining: 0:03:05)\n",
      "Exported lines 66300-66599 to steamreviews_data.csv. Batch 221 time: 0:01:29 (avg: 0:01:33, remaining: 0:01:33)\n",
      "Exported lines 66600-66802 to steamreviews_data.csv. Batch 222 time: 0:01:02 (avg: 0:01:33, remaining: 0:00:00)\n",
      "\n",
      "Processing batches complete. 66803 apps written\n"
     ]
    }
   ],
   "source": [
    "def parse_steamreviews_request(appid):\n",
    "    \"\"\"Parser to handle SteamSpy API data.\"\"\"\n",
    "    url = \"https://store.steampowered.com/appreviews/\" + str(appid)\n",
    "    parameters = {\"json\": 1, \"num_per_page\": \"0\", \"language\": \"all\"}\n",
    "    json_data = get_request(url, parameters)\n",
    "    json_data = json_data['query_summary']\n",
    "    json_data[\"appid\"]=appid\n",
    "    return json_data\n",
    "\n",
    "\n",
    "# set files and columns\n",
    "download_path = '../data/download'\n",
    "steamreviews_data = 'steamreviews_data.csv'\n",
    "steamreviews_index = 'steamreviews_index.txt'\n",
    "\n",
    "steamreviews_columns = [\n",
    "    'appid', 'review_score', 'review_score_desc', 'total_positive', 'total_negative', 'total_reviews'\n",
    "]\n",
    "\n",
    "reset_index(download_path, steamreviews_index)\n",
    "index = get_index(download_path, steamreviews_index)\n",
    "\n",
    "# Wipe data file if index is 0\n",
    "prepare_data_file(download_path, steamreviews_data, index, steamreviews_columns)\n",
    "\n",
    "full_steam_ids=pd.read_csv(\"../data/download/steam_app_data.csv\")\n",
    "\n",
    "process_batches(\n",
    "    parser=parse_steamreviews_request,\n",
    "    app_list=full_steam_ids[\"steam_appid\"],\n",
    "    download_path=download_path, \n",
    "    data_filename=steamreviews_data,\n",
    "    index_filename=steamreviews_index,\n",
    "    columns=steamreviews_columns,\n",
    "    begin=index,\n",
    "    end=len(full_steam_ids),\n",
    "    batchsize=300,\n",
    "    pause=0\n",
    ")"
   ]
  },
  {
   "cell_type": "code",
   "execution_count": 48,
   "metadata": {},
   "outputs": [],
   "source": [
    "steamreviews=pd.read_csv(\"../data/download/steamreviews_data.csv\", index_col=\"appid\")"
   ]
  },
  {
   "cell_type": "code",
   "execution_count": 49,
   "metadata": {},
   "outputs": [
    {
     "name": "stdout",
     "output_type": "stream",
     "text": [
      "<class 'pandas.core.frame.DataFrame'>\n",
      "Int64Index: 66803 entries, 10140 to 676480\n",
      "Data columns (total 5 columns):\n",
      " #   Column             Non-Null Count  Dtype \n",
      "---  ------             --------------  ----- \n",
      " 0   review_score       66803 non-null  int64 \n",
      " 1   review_score_desc  66803 non-null  object\n",
      " 2   total_positive     66803 non-null  int64 \n",
      " 3   total_negative     66803 non-null  int64 \n",
      " 4   total_reviews      66803 non-null  int64 \n",
      "dtypes: int64(4), object(1)\n",
      "memory usage: 3.1+ MB\n"
     ]
    }
   ],
   "source": [
    "steamreviews.info()"
   ]
  },
  {
   "cell_type": "code",
   "execution_count": 51,
   "metadata": {},
   "outputs": [
    {
     "data": {
      "text/plain": [
       "0        19004\n",
       "1         3938\n",
       "2         3189\n",
       "3         2338\n",
       "4         2028\n",
       "         ...  \n",
       "3877         1\n",
       "3813         1\n",
       "12001        1\n",
       "32427        1\n",
       "2974         1\n",
       "Name: total_reviews, Length: 3855, dtype: int64"
      ]
     },
     "execution_count": 51,
     "metadata": {},
     "output_type": "execute_result"
    }
   ],
   "source": [
    "steamreviews[\"total_reviews\"].value_counts()"
   ]
  },
  {
   "cell_type": "code",
   "execution_count": 52,
   "metadata": {},
   "outputs": [
    {
     "data": {
      "text/plain": [
       "No user reviews            19004\n",
       "Very Positive               8178\n",
       "Mixed                       7630\n",
       "Positive                    6444\n",
       "Mostly Positive             5331\n",
       "1 user reviews              3938\n",
       "2 user reviews              3189\n",
       "3 user reviews              2338\n",
       "4 user reviews              2028\n",
       "5 user reviews              1682\n",
       "6 user reviews              1438\n",
       "Mostly Negative             1313\n",
       "7 user reviews              1262\n",
       "8 user reviews              1086\n",
       "9 user reviews               888\n",
       "Overwhelmingly Positive      746\n",
       "Negative                     264\n",
       "Very Negative                 37\n",
       "Overwhelmingly Negative        7\n",
       "Name: review_score_desc, dtype: int64"
      ]
     },
     "execution_count": 52,
     "metadata": {},
     "output_type": "execute_result"
    }
   ],
   "source": [
    "steamreviews[\"review_score_desc\"].value_counts()"
   ]
  },
  {
   "cell_type": "code",
   "execution_count": 53,
   "metadata": {},
   "outputs": [
    {
     "data": {
      "text/plain": [
       "0    36853\n",
       "8     8178\n",
       "5     7630\n",
       "7     6444\n",
       "6     5331\n",
       "4     1313\n",
       "9      746\n",
       "3      264\n",
       "2       37\n",
       "1        7\n",
       "Name: review_score, dtype: int64"
      ]
     },
     "execution_count": 53,
     "metadata": {},
     "output_type": "execute_result"
    }
   ],
   "source": [
    "steamreviews[\"review_score\"].value_counts()"
   ]
  },
  {
   "cell_type": "markdown",
   "metadata": {},
   "source": [
    "This looks very good. Review Score Description actually gives us more information than the Score alone... although it lumps together all games with less than 10 reviews as a score of 0.\n",
    "\n",
    "We might want to keep only the total reviews as popularity, and feature a column to have a score. But it the categories already stablished in Steam seem to be adequate. In any case, a continuous score is also good, so let's use the one stablished at steam DB: https://steamdb.info/blog/steamdb-rating/"
   ]
  },
  {
   "cell_type": "markdown",
   "metadata": {
    "id": "8JlNtC4nXTI9"
   },
   "source": [
    "## Next Steps\n",
    "\n",
    "Here we have defined and demonstrated the download process used to generate the data sets. This is similar to what Nik Davis did in the past, with the exception that now the process can be reinitiated to get only the new IDs in the full id list and add them to the previous dataset. This might be expanded to get also the IDs with data updated. You might see some errors as the process had to be repeated some times, but the final raw data can be found [on Kaggle](https://www.kaggle.com/vicentearce/steam-and-steam-spy-raw-datasets).\n",
    "\n",
    "We have two tables now with a lot of information from the apps on Stem Store. From the Steam Store API we have a lot of metadata, which is used by the Steam Store itself to display the Store page. We will consider this the main source of information. The most useful but missing information is the quantity of positive or negative recommendations, we only have the total. Also, the tags (possibly as they were added later) are not available. There might be available in a separate request which is not public, or Valve just forgot to add it to the list.\n",
    "\n",
    "From Steam Spy we have some additional information as it tries to track the concurrent users, we have averages , top... It also offers an estimate of owners, with a very large margin of error. We will check exactly what to keep and how to clean it in the next section.\n",
    "\n",
    "After reviewing the reviews (positive/negative reviews) vs total reviews from Steam Spy and Steam Store in the cleaning section, we discovered that they did not agree so we got a third dataset - review metadata from the Steam Store API (partners). We could have changed the request and instead get all individual reviews, which could be an interesting machine learning analysis - we have data about if they are positive or negative, and we could do a sentiment analysis from the text using NLP. But that is not the focus of our current analysis. Also we have to note that getting the metadata was about 5h, but getting all individual reviews could take quite some time."
   ]
  },
  {
   "cell_type": "code",
   "execution_count": null,
   "metadata": {},
   "outputs": [],
   "source": []
  }
 ],
 "metadata": {
  "colab": {
   "include_colab_link": true,
   "name": "1-data-collection.ipynb",
   "provenance": []
  },
  "kernelspec": {
   "display_name": "Python 3",
   "language": "python",
   "name": "python3"
  },
  "language_info": {
   "codemirror_mode": {
    "name": "ipython",
    "version": 3
   },
   "file_extension": ".py",
   "mimetype": "text/x-python",
   "name": "python",
   "nbconvert_exporter": "python",
   "pygments_lexer": "ipython3",
   "version": "3.8.7"
  }
 },
 "nbformat": 4,
 "nbformat_minor": 1
}
